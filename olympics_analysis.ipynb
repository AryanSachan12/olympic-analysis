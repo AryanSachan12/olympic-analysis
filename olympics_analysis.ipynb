{
 "cells": [
  {
   "cell_type": "code",
   "execution_count": 115,
   "id": "b3310e6e",
   "metadata": {},
   "outputs": [],
   "source": [
    "import numpy as np\n",
    "import pandas as pd"
   ]
  },
  {
   "cell_type": "code",
   "execution_count": 116,
   "id": "1aea7eaa",
   "metadata": {},
   "outputs": [],
   "source": [
    "df = pd.read_csv(\"./datasets/athlete_events.csv\")\n",
    "region_df = pd.read_csv(\"./datasets/noc_regions.csv\")"
   ]
  },
  {
   "cell_type": "code",
   "execution_count": 117,
   "id": "a181bb07",
   "metadata": {},
   "outputs": [
    {
     "data": {
      "application/vnd.microsoft.datawrangler.viewer.v0+json": {
       "columns": [
        {
         "name": "index",
         "rawType": "int64",
         "type": "integer"
        },
        {
         "name": "ID",
         "rawType": "int64",
         "type": "integer"
        },
        {
         "name": "Name",
         "rawType": "object",
         "type": "string"
        },
        {
         "name": "Sex",
         "rawType": "object",
         "type": "string"
        },
        {
         "name": "Age",
         "rawType": "float64",
         "type": "float"
        },
        {
         "name": "Height",
         "rawType": "float64",
         "type": "float"
        },
        {
         "name": "Weight",
         "rawType": "float64",
         "type": "float"
        },
        {
         "name": "Team",
         "rawType": "object",
         "type": "string"
        },
        {
         "name": "NOC",
         "rawType": "object",
         "type": "string"
        },
        {
         "name": "Games",
         "rawType": "object",
         "type": "string"
        },
        {
         "name": "Year",
         "rawType": "int64",
         "type": "integer"
        },
        {
         "name": "Season",
         "rawType": "object",
         "type": "string"
        },
        {
         "name": "City",
         "rawType": "object",
         "type": "string"
        },
        {
         "name": "Sport",
         "rawType": "object",
         "type": "string"
        },
        {
         "name": "Event",
         "rawType": "object",
         "type": "string"
        },
        {
         "name": "Medal",
         "rawType": "object",
         "type": "unknown"
        }
       ],
       "conversionMethod": "pd.DataFrame",
       "ref": "2de48398-083f-4f1a-8d4d-b4a3cef6acb4",
       "rows": [
        [
         "271111",
         "135569",
         "Andrzej ya",
         "M",
         "29.0",
         "179.0",
         "89.0",
         "Poland-1",
         "POL",
         "1976 Winter",
         "1976",
         "Winter",
         "Innsbruck",
         "Luge",
         "Luge Mixed (Men)'s Doubles",
         null
        ],
        [
         "271112",
         "135570",
         "Piotr ya",
         "M",
         "27.0",
         "176.0",
         "59.0",
         "Poland",
         "POL",
         "2014 Winter",
         "2014",
         "Winter",
         "Sochi",
         "Ski Jumping",
         "Ski Jumping Men's Large Hill, Individual",
         null
        ],
        [
         "271113",
         "135570",
         "Piotr ya",
         "M",
         "27.0",
         "176.0",
         "59.0",
         "Poland",
         "POL",
         "2014 Winter",
         "2014",
         "Winter",
         "Sochi",
         "Ski Jumping",
         "Ski Jumping Men's Large Hill, Team",
         null
        ],
        [
         "271114",
         "135571",
         "Tomasz Ireneusz ya",
         "M",
         "30.0",
         "185.0",
         "96.0",
         "Poland",
         "POL",
         "1998 Winter",
         "1998",
         "Winter",
         "Nagano",
         "Bobsleigh",
         "Bobsleigh Men's Four",
         null
        ],
        [
         "271115",
         "135571",
         "Tomasz Ireneusz ya",
         "M",
         "34.0",
         "185.0",
         "96.0",
         "Poland",
         "POL",
         "2002 Winter",
         "2002",
         "Winter",
         "Salt Lake City",
         "Bobsleigh",
         "Bobsleigh Men's Four",
         null
        ]
       ],
       "shape": {
        "columns": 15,
        "rows": 5
       }
      },
      "text/html": [
       "<div>\n",
       "<style scoped>\n",
       "    .dataframe tbody tr th:only-of-type {\n",
       "        vertical-align: middle;\n",
       "    }\n",
       "\n",
       "    .dataframe tbody tr th {\n",
       "        vertical-align: top;\n",
       "    }\n",
       "\n",
       "    .dataframe thead th {\n",
       "        text-align: right;\n",
       "    }\n",
       "</style>\n",
       "<table border=\"1\" class=\"dataframe\">\n",
       "  <thead>\n",
       "    <tr style=\"text-align: right;\">\n",
       "      <th></th>\n",
       "      <th>ID</th>\n",
       "      <th>Name</th>\n",
       "      <th>Sex</th>\n",
       "      <th>Age</th>\n",
       "      <th>Height</th>\n",
       "      <th>Weight</th>\n",
       "      <th>Team</th>\n",
       "      <th>NOC</th>\n",
       "      <th>Games</th>\n",
       "      <th>Year</th>\n",
       "      <th>Season</th>\n",
       "      <th>City</th>\n",
       "      <th>Sport</th>\n",
       "      <th>Event</th>\n",
       "      <th>Medal</th>\n",
       "    </tr>\n",
       "  </thead>\n",
       "  <tbody>\n",
       "    <tr>\n",
       "      <th>271111</th>\n",
       "      <td>135569</td>\n",
       "      <td>Andrzej ya</td>\n",
       "      <td>M</td>\n",
       "      <td>29.0</td>\n",
       "      <td>179.0</td>\n",
       "      <td>89.0</td>\n",
       "      <td>Poland-1</td>\n",
       "      <td>POL</td>\n",
       "      <td>1976 Winter</td>\n",
       "      <td>1976</td>\n",
       "      <td>Winter</td>\n",
       "      <td>Innsbruck</td>\n",
       "      <td>Luge</td>\n",
       "      <td>Luge Mixed (Men)'s Doubles</td>\n",
       "      <td>NaN</td>\n",
       "    </tr>\n",
       "    <tr>\n",
       "      <th>271112</th>\n",
       "      <td>135570</td>\n",
       "      <td>Piotr ya</td>\n",
       "      <td>M</td>\n",
       "      <td>27.0</td>\n",
       "      <td>176.0</td>\n",
       "      <td>59.0</td>\n",
       "      <td>Poland</td>\n",
       "      <td>POL</td>\n",
       "      <td>2014 Winter</td>\n",
       "      <td>2014</td>\n",
       "      <td>Winter</td>\n",
       "      <td>Sochi</td>\n",
       "      <td>Ski Jumping</td>\n",
       "      <td>Ski Jumping Men's Large Hill, Individual</td>\n",
       "      <td>NaN</td>\n",
       "    </tr>\n",
       "    <tr>\n",
       "      <th>271113</th>\n",
       "      <td>135570</td>\n",
       "      <td>Piotr ya</td>\n",
       "      <td>M</td>\n",
       "      <td>27.0</td>\n",
       "      <td>176.0</td>\n",
       "      <td>59.0</td>\n",
       "      <td>Poland</td>\n",
       "      <td>POL</td>\n",
       "      <td>2014 Winter</td>\n",
       "      <td>2014</td>\n",
       "      <td>Winter</td>\n",
       "      <td>Sochi</td>\n",
       "      <td>Ski Jumping</td>\n",
       "      <td>Ski Jumping Men's Large Hill, Team</td>\n",
       "      <td>NaN</td>\n",
       "    </tr>\n",
       "    <tr>\n",
       "      <th>271114</th>\n",
       "      <td>135571</td>\n",
       "      <td>Tomasz Ireneusz ya</td>\n",
       "      <td>M</td>\n",
       "      <td>30.0</td>\n",
       "      <td>185.0</td>\n",
       "      <td>96.0</td>\n",
       "      <td>Poland</td>\n",
       "      <td>POL</td>\n",
       "      <td>1998 Winter</td>\n",
       "      <td>1998</td>\n",
       "      <td>Winter</td>\n",
       "      <td>Nagano</td>\n",
       "      <td>Bobsleigh</td>\n",
       "      <td>Bobsleigh Men's Four</td>\n",
       "      <td>NaN</td>\n",
       "    </tr>\n",
       "    <tr>\n",
       "      <th>271115</th>\n",
       "      <td>135571</td>\n",
       "      <td>Tomasz Ireneusz ya</td>\n",
       "      <td>M</td>\n",
       "      <td>34.0</td>\n",
       "      <td>185.0</td>\n",
       "      <td>96.0</td>\n",
       "      <td>Poland</td>\n",
       "      <td>POL</td>\n",
       "      <td>2002 Winter</td>\n",
       "      <td>2002</td>\n",
       "      <td>Winter</td>\n",
       "      <td>Salt Lake City</td>\n",
       "      <td>Bobsleigh</td>\n",
       "      <td>Bobsleigh Men's Four</td>\n",
       "      <td>NaN</td>\n",
       "    </tr>\n",
       "  </tbody>\n",
       "</table>\n",
       "</div>"
      ],
      "text/plain": [
       "            ID                Name Sex   Age  Height  Weight      Team  NOC  \\\n",
       "271111  135569          Andrzej ya   M  29.0   179.0    89.0  Poland-1  POL   \n",
       "271112  135570            Piotr ya   M  27.0   176.0    59.0    Poland  POL   \n",
       "271113  135570            Piotr ya   M  27.0   176.0    59.0    Poland  POL   \n",
       "271114  135571  Tomasz Ireneusz ya   M  30.0   185.0    96.0    Poland  POL   \n",
       "271115  135571  Tomasz Ireneusz ya   M  34.0   185.0    96.0    Poland  POL   \n",
       "\n",
       "              Games  Year  Season            City        Sport  \\\n",
       "271111  1976 Winter  1976  Winter       Innsbruck         Luge   \n",
       "271112  2014 Winter  2014  Winter           Sochi  Ski Jumping   \n",
       "271113  2014 Winter  2014  Winter           Sochi  Ski Jumping   \n",
       "271114  1998 Winter  1998  Winter          Nagano    Bobsleigh   \n",
       "271115  2002 Winter  2002  Winter  Salt Lake City    Bobsleigh   \n",
       "\n",
       "                                           Event Medal  \n",
       "271111                Luge Mixed (Men)'s Doubles   NaN  \n",
       "271112  Ski Jumping Men's Large Hill, Individual   NaN  \n",
       "271113        Ski Jumping Men's Large Hill, Team   NaN  \n",
       "271114                      Bobsleigh Men's Four   NaN  \n",
       "271115                      Bobsleigh Men's Four   NaN  "
      ]
     },
     "execution_count": 117,
     "metadata": {},
     "output_type": "execute_result"
    }
   ],
   "source": [
    "df.tail()"
   ]
  },
  {
   "cell_type": "code",
   "execution_count": 118,
   "id": "c43dca3f",
   "metadata": {},
   "outputs": [
    {
     "data": {
      "text/plain": [
       "(271116, 15)"
      ]
     },
     "execution_count": 118,
     "metadata": {},
     "output_type": "execute_result"
    }
   ],
   "source": [
    "df.shape"
   ]
  },
  {
   "cell_type": "code",
   "execution_count": null,
   "id": "d69218c1",
   "metadata": {},
   "outputs": [],
   "source": [
    "df = df[df[\"Season\"] == \"Summer\"]"
   ]
  },
  {
   "cell_type": "code",
   "execution_count": 120,
   "id": "e7131590",
   "metadata": {},
   "outputs": [
    {
     "data": {
      "text/plain": [
       "(222552, 15)"
      ]
     },
     "execution_count": 120,
     "metadata": {},
     "output_type": "execute_result"
    }
   ],
   "source": [
    "df.shape"
   ]
  },
  {
   "cell_type": "code",
   "execution_count": 121,
   "id": "f3f2d9d4",
   "metadata": {},
   "outputs": [],
   "source": [
    "df = df.merge(region_df, on=\"NOC\", how=\"left\")"
   ]
  },
  {
   "cell_type": "code",
   "execution_count": 122,
   "id": "473bc28a",
   "metadata": {},
   "outputs": [
    {
     "data": {
      "application/vnd.microsoft.datawrangler.viewer.v0+json": {
       "columns": [
        {
         "name": "index",
         "rawType": "int64",
         "type": "integer"
        },
        {
         "name": "ID",
         "rawType": "int64",
         "type": "integer"
        },
        {
         "name": "Name",
         "rawType": "object",
         "type": "string"
        },
        {
         "name": "Sex",
         "rawType": "object",
         "type": "string"
        },
        {
         "name": "Age",
         "rawType": "float64",
         "type": "float"
        },
        {
         "name": "Height",
         "rawType": "float64",
         "type": "float"
        },
        {
         "name": "Weight",
         "rawType": "float64",
         "type": "float"
        },
        {
         "name": "Team",
         "rawType": "object",
         "type": "string"
        },
        {
         "name": "NOC",
         "rawType": "object",
         "type": "string"
        },
        {
         "name": "Games",
         "rawType": "object",
         "type": "string"
        },
        {
         "name": "Year",
         "rawType": "int64",
         "type": "integer"
        },
        {
         "name": "Season",
         "rawType": "object",
         "type": "string"
        },
        {
         "name": "City",
         "rawType": "object",
         "type": "string"
        },
        {
         "name": "Sport",
         "rawType": "object",
         "type": "string"
        },
        {
         "name": "Event",
         "rawType": "object",
         "type": "string"
        },
        {
         "name": "Medal",
         "rawType": "object",
         "type": "unknown"
        },
        {
         "name": "region",
         "rawType": "object",
         "type": "string"
        },
        {
         "name": "notes",
         "rawType": "object",
         "type": "unknown"
        }
       ],
       "conversionMethod": "pd.DataFrame",
       "ref": "3b3bc928-e064-4d6b-841f-4fad31c39013",
       "rows": [
        [
         "0",
         "1",
         "A Dijiang",
         "M",
         "24.0",
         "180.0",
         "80.0",
         "China",
         "CHN",
         "1992 Summer",
         "1992",
         "Summer",
         "Barcelona",
         "Basketball",
         "Basketball Men's Basketball",
         null,
         "China",
         null
        ],
        [
         "1",
         "2",
         "A Lamusi",
         "M",
         "23.0",
         "170.0",
         "60.0",
         "China",
         "CHN",
         "2012 Summer",
         "2012",
         "Summer",
         "London",
         "Judo",
         "Judo Men's Extra-Lightweight",
         null,
         "China",
         null
        ],
        [
         "2",
         "3",
         "Gunnar Nielsen Aaby",
         "M",
         "24.0",
         null,
         null,
         "Denmark",
         "DEN",
         "1920 Summer",
         "1920",
         "Summer",
         "Antwerpen",
         "Football",
         "Football Men's Football",
         null,
         "Denmark",
         null
        ],
        [
         "3",
         "4",
         "Edgar Lindenau Aabye",
         "M",
         "34.0",
         null,
         null,
         "Denmark/Sweden",
         "DEN",
         "1900 Summer",
         "1900",
         "Summer",
         "Paris",
         "Tug-Of-War",
         "Tug-Of-War Men's Tug-Of-War",
         "Gold",
         "Denmark",
         null
        ],
        [
         "4",
         "8",
         "Cornelia \"Cor\" Aalten (-Strannood)",
         "F",
         "18.0",
         "168.0",
         null,
         "Netherlands",
         "NED",
         "1932 Summer",
         "1932",
         "Summer",
         "Los Angeles",
         "Athletics",
         "Athletics Women's 100 metres",
         null,
         "Netherlands",
         null
        ]
       ],
       "shape": {
        "columns": 17,
        "rows": 5
       }
      },
      "text/html": [
       "<div>\n",
       "<style scoped>\n",
       "    .dataframe tbody tr th:only-of-type {\n",
       "        vertical-align: middle;\n",
       "    }\n",
       "\n",
       "    .dataframe tbody tr th {\n",
       "        vertical-align: top;\n",
       "    }\n",
       "\n",
       "    .dataframe thead th {\n",
       "        text-align: right;\n",
       "    }\n",
       "</style>\n",
       "<table border=\"1\" class=\"dataframe\">\n",
       "  <thead>\n",
       "    <tr style=\"text-align: right;\">\n",
       "      <th></th>\n",
       "      <th>ID</th>\n",
       "      <th>Name</th>\n",
       "      <th>Sex</th>\n",
       "      <th>Age</th>\n",
       "      <th>Height</th>\n",
       "      <th>Weight</th>\n",
       "      <th>Team</th>\n",
       "      <th>NOC</th>\n",
       "      <th>Games</th>\n",
       "      <th>Year</th>\n",
       "      <th>Season</th>\n",
       "      <th>City</th>\n",
       "      <th>Sport</th>\n",
       "      <th>Event</th>\n",
       "      <th>Medal</th>\n",
       "      <th>region</th>\n",
       "      <th>notes</th>\n",
       "    </tr>\n",
       "  </thead>\n",
       "  <tbody>\n",
       "    <tr>\n",
       "      <th>0</th>\n",
       "      <td>1</td>\n",
       "      <td>A Dijiang</td>\n",
       "      <td>M</td>\n",
       "      <td>24.0</td>\n",
       "      <td>180.0</td>\n",
       "      <td>80.0</td>\n",
       "      <td>China</td>\n",
       "      <td>CHN</td>\n",
       "      <td>1992 Summer</td>\n",
       "      <td>1992</td>\n",
       "      <td>Summer</td>\n",
       "      <td>Barcelona</td>\n",
       "      <td>Basketball</td>\n",
       "      <td>Basketball Men's Basketball</td>\n",
       "      <td>NaN</td>\n",
       "      <td>China</td>\n",
       "      <td>NaN</td>\n",
       "    </tr>\n",
       "    <tr>\n",
       "      <th>1</th>\n",
       "      <td>2</td>\n",
       "      <td>A Lamusi</td>\n",
       "      <td>M</td>\n",
       "      <td>23.0</td>\n",
       "      <td>170.0</td>\n",
       "      <td>60.0</td>\n",
       "      <td>China</td>\n",
       "      <td>CHN</td>\n",
       "      <td>2012 Summer</td>\n",
       "      <td>2012</td>\n",
       "      <td>Summer</td>\n",
       "      <td>London</td>\n",
       "      <td>Judo</td>\n",
       "      <td>Judo Men's Extra-Lightweight</td>\n",
       "      <td>NaN</td>\n",
       "      <td>China</td>\n",
       "      <td>NaN</td>\n",
       "    </tr>\n",
       "    <tr>\n",
       "      <th>2</th>\n",
       "      <td>3</td>\n",
       "      <td>Gunnar Nielsen Aaby</td>\n",
       "      <td>M</td>\n",
       "      <td>24.0</td>\n",
       "      <td>NaN</td>\n",
       "      <td>NaN</td>\n",
       "      <td>Denmark</td>\n",
       "      <td>DEN</td>\n",
       "      <td>1920 Summer</td>\n",
       "      <td>1920</td>\n",
       "      <td>Summer</td>\n",
       "      <td>Antwerpen</td>\n",
       "      <td>Football</td>\n",
       "      <td>Football Men's Football</td>\n",
       "      <td>NaN</td>\n",
       "      <td>Denmark</td>\n",
       "      <td>NaN</td>\n",
       "    </tr>\n",
       "    <tr>\n",
       "      <th>3</th>\n",
       "      <td>4</td>\n",
       "      <td>Edgar Lindenau Aabye</td>\n",
       "      <td>M</td>\n",
       "      <td>34.0</td>\n",
       "      <td>NaN</td>\n",
       "      <td>NaN</td>\n",
       "      <td>Denmark/Sweden</td>\n",
       "      <td>DEN</td>\n",
       "      <td>1900 Summer</td>\n",
       "      <td>1900</td>\n",
       "      <td>Summer</td>\n",
       "      <td>Paris</td>\n",
       "      <td>Tug-Of-War</td>\n",
       "      <td>Tug-Of-War Men's Tug-Of-War</td>\n",
       "      <td>Gold</td>\n",
       "      <td>Denmark</td>\n",
       "      <td>NaN</td>\n",
       "    </tr>\n",
       "    <tr>\n",
       "      <th>4</th>\n",
       "      <td>8</td>\n",
       "      <td>Cornelia \"Cor\" Aalten (-Strannood)</td>\n",
       "      <td>F</td>\n",
       "      <td>18.0</td>\n",
       "      <td>168.0</td>\n",
       "      <td>NaN</td>\n",
       "      <td>Netherlands</td>\n",
       "      <td>NED</td>\n",
       "      <td>1932 Summer</td>\n",
       "      <td>1932</td>\n",
       "      <td>Summer</td>\n",
       "      <td>Los Angeles</td>\n",
       "      <td>Athletics</td>\n",
       "      <td>Athletics Women's 100 metres</td>\n",
       "      <td>NaN</td>\n",
       "      <td>Netherlands</td>\n",
       "      <td>NaN</td>\n",
       "    </tr>\n",
       "  </tbody>\n",
       "</table>\n",
       "</div>"
      ],
      "text/plain": [
       "   ID                                Name Sex   Age  Height  Weight  \\\n",
       "0   1                           A Dijiang   M  24.0   180.0    80.0   \n",
       "1   2                            A Lamusi   M  23.0   170.0    60.0   \n",
       "2   3                 Gunnar Nielsen Aaby   M  24.0     NaN     NaN   \n",
       "3   4                Edgar Lindenau Aabye   M  34.0     NaN     NaN   \n",
       "4   8  Cornelia \"Cor\" Aalten (-Strannood)   F  18.0   168.0     NaN   \n",
       "\n",
       "             Team  NOC        Games  Year  Season         City       Sport  \\\n",
       "0           China  CHN  1992 Summer  1992  Summer    Barcelona  Basketball   \n",
       "1           China  CHN  2012 Summer  2012  Summer       London        Judo   \n",
       "2         Denmark  DEN  1920 Summer  1920  Summer    Antwerpen    Football   \n",
       "3  Denmark/Sweden  DEN  1900 Summer  1900  Summer        Paris  Tug-Of-War   \n",
       "4     Netherlands  NED  1932 Summer  1932  Summer  Los Angeles   Athletics   \n",
       "\n",
       "                          Event Medal       region notes  \n",
       "0   Basketball Men's Basketball   NaN        China   NaN  \n",
       "1  Judo Men's Extra-Lightweight   NaN        China   NaN  \n",
       "2       Football Men's Football   NaN      Denmark   NaN  \n",
       "3   Tug-Of-War Men's Tug-Of-War  Gold      Denmark   NaN  \n",
       "4  Athletics Women's 100 metres   NaN  Netherlands   NaN  "
      ]
     },
     "execution_count": 122,
     "metadata": {},
     "output_type": "execute_result"
    }
   ],
   "source": [
    "df.head()"
   ]
  },
  {
   "cell_type": "code",
   "execution_count": 123,
   "id": "e10e2172",
   "metadata": {},
   "outputs": [
    {
     "data": {
      "text/plain": [
       "ID             0\n",
       "Name           0\n",
       "Sex            0\n",
       "Age         9189\n",
       "Height     51857\n",
       "Weight     53854\n",
       "Team           0\n",
       "NOC            0\n",
       "Games          0\n",
       "Year           0\n",
       "Season         0\n",
       "City           0\n",
       "Sport          0\n",
       "Event          0\n",
       "Medal     188464\n",
       "region       370\n",
       "notes     218151\n",
       "dtype: int64"
      ]
     },
     "execution_count": 123,
     "metadata": {},
     "output_type": "execute_result"
    }
   ],
   "source": [
    "df.isnull().sum()"
   ]
  },
  {
   "cell_type": "code",
   "execution_count": 124,
   "id": "bb1dc79f",
   "metadata": {},
   "outputs": [
    {
     "data": {
      "text/plain": [
       "np.int64(1385)"
      ]
     },
     "execution_count": 124,
     "metadata": {},
     "output_type": "execute_result"
    }
   ],
   "source": [
    "df.duplicated().sum()"
   ]
  },
  {
   "cell_type": "code",
   "execution_count": 125,
   "id": "dd228478",
   "metadata": {},
   "outputs": [],
   "source": [
    "df.drop_duplicates(inplace=True)"
   ]
  },
  {
   "cell_type": "code",
   "execution_count": 126,
   "id": "a46277c6",
   "metadata": {},
   "outputs": [],
   "source": [
    "df = pd.concat([df, pd.get_dummies(df[\"Medal\"])], axis=1)"
   ]
  },
  {
   "cell_type": "code",
   "execution_count": null,
   "id": "930f1301",
   "metadata": {},
   "outputs": [
    {
     "data": {
      "application/vnd.microsoft.datawrangler.viewer.v0+json": {
       "columns": [
        {
         "name": "index",
         "rawType": "int64",
         "type": "integer"
        },
        {
         "name": "NOC",
         "rawType": "object",
         "type": "string"
        },
        {
         "name": "Gold",
         "rawType": "int64",
         "type": "integer"
        },
        {
         "name": "Silver",
         "rawType": "int64",
         "type": "integer"
        },
        {
         "name": "Bronze",
         "rawType": "int64",
         "type": "integer"
        }
       ],
       "conversionMethod": "pd.DataFrame",
       "ref": "d31e16a6-cd4f-4fc6-9e03-81a5df6ee524",
       "rows": [
        [
         "0",
         "USA",
         "2472",
         "1333",
         "1197"
        ],
        [
         "1",
         "URS",
         "832",
         "635",
         "596"
        ],
        [
         "2",
         "GBR",
         "635",
         "729",
         "620"
        ],
        [
         "3",
         "GER",
         "592",
         "538",
         "649"
        ],
        [
         "4",
         "ITA",
         "518",
         "474",
         "454"
        ],
        [
         "5",
         "FRA",
         "463",
         "567",
         "587"
        ],
        [
         "6",
         "HUN",
         "432",
         "328",
         "363"
        ],
        [
         "7",
         "SWE",
         "354",
         "396",
         "358"
        ],
        [
         "8",
         "AUS",
         "342",
         "452",
         "510"
        ],
        [
         "9",
         "GDR",
         "339",
         "277",
         "227"
        ],
        [
         "10",
         "CHN",
         "334",
         "317",
         "258"
        ],
        [
         "11",
         "RUS",
         "296",
         "278",
         "331"
        ],
        [
         "12",
         "NED",
         "245",
         "302",
         "371"
        ],
        [
         "13",
         "JPN",
         "230",
         "287",
         "333"
        ],
        [
         "14",
         "NOR",
         "227",
         "196",
         "167"
        ],
        [
         "15",
         "DEN",
         "179",
         "236",
         "177"
        ],
        [
         "16",
         "KOR",
         "171",
         "206",
         "175"
        ],
        [
         "17",
         "CUB",
         "164",
         "129",
         "116"
        ],
        [
         "18",
         "ROU",
         "161",
         "200",
         "290"
        ],
        [
         "19",
         "CAN",
         "158",
         "239",
         "344"
        ],
        [
         "20",
         "FRG",
         "144",
         "172",
         "188"
        ],
        [
         "21",
         "FIN",
         "132",
         "125",
         "217"
        ],
        [
         "22",
         "IND",
         "131",
         "19",
         "40"
        ],
        [
         "23",
         "YUG",
         "130",
         "161",
         "92"
        ],
        [
         "24",
         "POL",
         "111",
         "185",
         "242"
        ],
        [
         "25",
         "BRA",
         "109",
         "175",
         "191"
        ],
        [
         "26",
         "ESP",
         "109",
         "243",
         "135"
        ],
        [
         "27",
         "SUI",
         "99",
         "178",
         "139"
        ],
        [
         "28",
         "BEL",
         "96",
         "193",
         "166"
        ],
        [
         "29",
         "EUN",
         "92",
         "61",
         "67"
        ],
        [
         "30",
         "ARG",
         "91",
         "92",
         "91"
        ],
        [
         "31",
         "NZL",
         "90",
         "55",
         "82"
        ],
        [
         "32",
         "TCH",
         "79",
         "144",
         "107"
        ],
        [
         "33",
         "GRE",
         "62",
         "109",
         "84"
        ],
        [
         "34",
         "CRO",
         "54",
         "48",
         "36"
        ],
        [
         "35",
         "BUL",
         "53",
         "142",
         "141"
        ],
        [
         "36",
         "UKR",
         "42",
         "51",
         "95"
        ],
        [
         "37",
         "PAK",
         "42",
         "45",
         "34"
        ],
        [
         "38",
         "TUR",
         "40",
         "27",
         "28"
        ],
        [
         "39",
         "JAM",
         "38",
         "75",
         "44"
        ],
        [
         "40",
         "KEN",
         "34",
         "41",
         "31"
        ],
        [
         "41",
         "RSA",
         "32",
         "47",
         "52"
        ],
        [
         "42",
         "URU",
         "31",
         "2",
         "30"
        ],
        [
         "43",
         "MEX",
         "30",
         "26",
         "54"
        ],
        [
         "44",
         "AUT",
         "29",
         "88",
         "53"
        ],
        [
         "45",
         "NGR",
         "23",
         "30",
         "46"
        ],
        [
         "46",
         "ETH",
         "22",
         "9",
         "22"
        ],
        [
         "47",
         "CMR",
         "20",
         "1",
         "1"
        ],
        [
         "48",
         "ANZ",
         "20",
         "4",
         "5"
        ],
        [
         "49",
         "KAZ",
         "19",
         "22",
         "29"
        ]
       ],
       "shape": {
        "columns": 4,
        "rows": 230
       }
      },
      "text/html": [
       "<div>\n",
       "<style scoped>\n",
       "    .dataframe tbody tr th:only-of-type {\n",
       "        vertical-align: middle;\n",
       "    }\n",
       "\n",
       "    .dataframe tbody tr th {\n",
       "        vertical-align: top;\n",
       "    }\n",
       "\n",
       "    .dataframe thead th {\n",
       "        text-align: right;\n",
       "    }\n",
       "</style>\n",
       "<table border=\"1\" class=\"dataframe\">\n",
       "  <thead>\n",
       "    <tr style=\"text-align: right;\">\n",
       "      <th></th>\n",
       "      <th>NOC</th>\n",
       "      <th>Gold</th>\n",
       "      <th>Silver</th>\n",
       "      <th>Bronze</th>\n",
       "    </tr>\n",
       "  </thead>\n",
       "  <tbody>\n",
       "    <tr>\n",
       "      <th>0</th>\n",
       "      <td>USA</td>\n",
       "      <td>2472</td>\n",
       "      <td>1333</td>\n",
       "      <td>1197</td>\n",
       "    </tr>\n",
       "    <tr>\n",
       "      <th>1</th>\n",
       "      <td>URS</td>\n",
       "      <td>832</td>\n",
       "      <td>635</td>\n",
       "      <td>596</td>\n",
       "    </tr>\n",
       "    <tr>\n",
       "      <th>2</th>\n",
       "      <td>GBR</td>\n",
       "      <td>635</td>\n",
       "      <td>729</td>\n",
       "      <td>620</td>\n",
       "    </tr>\n",
       "    <tr>\n",
       "      <th>3</th>\n",
       "      <td>GER</td>\n",
       "      <td>592</td>\n",
       "      <td>538</td>\n",
       "      <td>649</td>\n",
       "    </tr>\n",
       "    <tr>\n",
       "      <th>4</th>\n",
       "      <td>ITA</td>\n",
       "      <td>518</td>\n",
       "      <td>474</td>\n",
       "      <td>454</td>\n",
       "    </tr>\n",
       "    <tr>\n",
       "      <th>...</th>\n",
       "      <td>...</td>\n",
       "      <td>...</td>\n",
       "      <td>...</td>\n",
       "      <td>...</td>\n",
       "    </tr>\n",
       "    <tr>\n",
       "      <th>225</th>\n",
       "      <td>WIF</td>\n",
       "      <td>0</td>\n",
       "      <td>0</td>\n",
       "      <td>5</td>\n",
       "    </tr>\n",
       "    <tr>\n",
       "      <th>226</th>\n",
       "      <td>YEM</td>\n",
       "      <td>0</td>\n",
       "      <td>0</td>\n",
       "      <td>0</td>\n",
       "    </tr>\n",
       "    <tr>\n",
       "      <th>227</th>\n",
       "      <td>YAR</td>\n",
       "      <td>0</td>\n",
       "      <td>0</td>\n",
       "      <td>0</td>\n",
       "    </tr>\n",
       "    <tr>\n",
       "      <th>228</th>\n",
       "      <td>YMD</td>\n",
       "      <td>0</td>\n",
       "      <td>0</td>\n",
       "      <td>0</td>\n",
       "    </tr>\n",
       "    <tr>\n",
       "      <th>229</th>\n",
       "      <td>ZAM</td>\n",
       "      <td>0</td>\n",
       "      <td>1</td>\n",
       "      <td>1</td>\n",
       "    </tr>\n",
       "  </tbody>\n",
       "</table>\n",
       "<p>230 rows × 4 columns</p>\n",
       "</div>"
      ],
      "text/plain": [
       "     NOC  Gold  Silver  Bronze\n",
       "0    USA  2472    1333    1197\n",
       "1    URS   832     635     596\n",
       "2    GBR   635     729     620\n",
       "3    GER   592     538     649\n",
       "4    ITA   518     474     454\n",
       "..   ...   ...     ...     ...\n",
       "225  WIF     0       0       5\n",
       "226  YEM     0       0       0\n",
       "227  YAR     0       0       0\n",
       "228  YMD     0       0       0\n",
       "229  ZAM     0       1       1\n",
       "\n",
       "[230 rows x 4 columns]"
      ]
     },
     "execution_count": 127,
     "metadata": {},
     "output_type": "execute_result"
    }
   ],
   "source": [
    "df.groupby(\"NOC\").sum()[[\"Gold\", \"Silver\", \"Bronze\"]].sort_values(\n",
    "    \"Gold\", ascending=False\n",
    ").reset_index()"
   ]
  },
  {
   "cell_type": "code",
   "execution_count": null,
   "id": "5e4e54ac",
   "metadata": {},
   "outputs": [],
   "source": [
    "medal_tally = df.drop_duplicates(\n",
    "    subset=[\"Team\", \"NOC\", \"Games\", \"Year\", \"City\", \"Sport\", \"Event\", \"Medal\"]\n",
    ")"
   ]
  },
  {
   "cell_type": "code",
   "execution_count": null,
   "id": "5526623f",
   "metadata": {},
   "outputs": [],
   "source": [
    "medal_tally = (\n",
    "    medal_tally.groupby(\"region\")\n",
    "    .sum()[[\"Gold\", \"Silver\", \"Bronze\"]]\n",
    "    .sort_values(\"Gold\", ascending=False)\n",
    "    .reset_index()\n",
    ")"
   ]
  },
  {
   "cell_type": "code",
   "execution_count": null,
   "id": "b31cf161",
   "metadata": {},
   "outputs": [],
   "source": [
    "medal_tally[\"total\"] = (\n",
    "    medal_tally[\"Gold\"] + medal_tally[\"Silver\"] + medal_tally[\"Bronze\"]\n",
    ")"
   ]
  },
  {
   "cell_type": "code",
   "execution_count": 131,
   "id": "7ab10caf",
   "metadata": {},
   "outputs": [
    {
     "data": {
      "application/vnd.microsoft.datawrangler.viewer.v0+json": {
       "columns": [
        {
         "name": "index",
         "rawType": "int64",
         "type": "integer"
        },
        {
         "name": "region",
         "rawType": "object",
         "type": "string"
        },
        {
         "name": "Gold",
         "rawType": "int64",
         "type": "integer"
        },
        {
         "name": "Silver",
         "rawType": "int64",
         "type": "integer"
        },
        {
         "name": "Bronze",
         "rawType": "int64",
         "type": "integer"
        },
        {
         "name": "total",
         "rawType": "int64",
         "type": "integer"
        }
       ],
       "conversionMethod": "pd.DataFrame",
       "ref": "8e322581-a504-41a4-b837-09da98d9d1a3",
       "rows": [
        [
         "0",
         "USA",
         "1035",
         "802",
         "708",
         "2545"
        ],
        [
         "1",
         "Russia",
         "592",
         "498",
         "487",
         "1577"
        ],
        [
         "2",
         "Germany",
         "444",
         "457",
         "491",
         "1392"
        ],
        [
         "3",
         "UK",
         "278",
         "317",
         "300",
         "895"
        ],
        [
         "4",
         "France",
         "234",
         "256",
         "287",
         "777"
        ],
        [
         "5",
         "China",
         "228",
         "163",
         "154",
         "545"
        ],
        [
         "6",
         "Italy",
         "219",
         "191",
         "198",
         "608"
        ],
        [
         "7",
         "Hungary",
         "178",
         "154",
         "172",
         "504"
        ],
        [
         "8",
         "Sweden",
         "150",
         "175",
         "188",
         "513"
        ],
        [
         "9",
         "Australia",
         "150",
         "171",
         "197",
         "518"
        ],
        [
         "10",
         "Japan",
         "142",
         "134",
         "161",
         "437"
        ],
        [
         "11",
         "Finland",
         "104",
         "86",
         "120",
         "310"
        ],
        [
         "12",
         "South Korea",
         "90",
         "85",
         "89",
         "264"
        ],
        [
         "13",
         "Netherlands",
         "88",
         "97",
         "114",
         "299"
        ],
        [
         "14",
         "Romania",
         "88",
         "95",
         "120",
         "303"
        ],
        [
         "15",
         "Cuba",
         "77",
         "67",
         "70",
         "214"
        ],
        [
         "16",
         "Poland",
         "69",
         "87",
         "134",
         "290"
        ],
        [
         "17",
         "Czech Republic",
         "64",
         "68",
         "75",
         "207"
        ],
        [
         "18",
         "Canada",
         "64",
         "104",
         "137",
         "305"
        ],
        [
         "19",
         "Norway",
         "59",
         "51",
         "48",
         "158"
        ],
        [
         "20",
         "Switzerland",
         "58",
         "82",
         "69",
         "209"
        ],
        [
         "21",
         "Bulgaria",
         "51",
         "86",
         "80",
         "217"
        ],
        [
         "22",
         "Denmark",
         "49",
         "81",
         "82",
         "212"
        ],
        [
         "23",
         "New Zealand",
         "47",
         "27",
         "44",
         "118"
        ],
        [
         "24",
         "Spain",
         "44",
         "63",
         "41",
         "148"
        ],
        [
         "25",
         "Belgium",
         "44",
         "59",
         "63",
         "166"
        ],
        [
         "26",
         "Greece",
         "42",
         "57",
         "52",
         "151"
        ],
        [
         "27",
         "Turkey",
         "40",
         "27",
         "28",
         "95"
        ],
        [
         "28",
         "Ukraine",
         "35",
         "32",
         "59",
         "126"
        ],
        [
         "29",
         "Serbia",
         "31",
         "39",
         "37",
         "107"
        ],
        [
         "30",
         "Kenya",
         "31",
         "38",
         "31",
         "100"
        ],
        [
         "31",
         "Brazil",
         "30",
         "36",
         "62",
         "128"
        ],
        [
         "32",
         "Austria",
         "26",
         "40",
         "42",
         "108"
        ],
        [
         "33",
         "South Africa",
         "25",
         "33",
         "30",
         "88"
        ],
        [
         "34",
         "Ethiopia",
         "22",
         "9",
         "22",
         "53"
        ],
        [
         "35",
         "Jamaica",
         "22",
         "32",
         "22",
         "76"
        ],
        [
         "36",
         "Argentina",
         "21",
         "25",
         "28",
         "74"
        ],
        [
         "37",
         "Kazakhstan",
         "19",
         "22",
         "29",
         "70"
        ],
        [
         "38",
         "Iran",
         "18",
         "21",
         "29",
         "68"
        ],
        [
         "39",
         "North Korea",
         "16",
         "15",
         "23",
         "54"
        ],
        [
         "40",
         "Belarus",
         "13",
         "28",
         "43",
         "84"
        ],
        [
         "41",
         "Mexico",
         "13",
         "24",
         "30",
         "67"
        ],
        [
         "42",
         "Croatia",
         "11",
         "10",
         "12",
         "33"
        ],
        [
         "43",
         "Slovakia",
         "9",
         "11",
         "8",
         "28"
        ],
        [
         "44",
         "Estonia",
         "9",
         "9",
         "16",
         "34"
        ],
        [
         "45",
         "Thailand",
         "9",
         "8",
         "13",
         "30"
        ],
        [
         "46",
         "Uzbekistan",
         "9",
         "7",
         "17",
         "33"
        ],
        [
         "47",
         "India",
         "9",
         "7",
         "12",
         "28"
        ],
        [
         "48",
         "Ireland",
         "9",
         "11",
         "13",
         "33"
        ],
        [
         "49",
         "Georgia",
         "8",
         "6",
         "18",
         "32"
        ]
       ],
       "shape": {
        "columns": 5,
        "rows": 205
       }
      },
      "text/html": [
       "<div>\n",
       "<style scoped>\n",
       "    .dataframe tbody tr th:only-of-type {\n",
       "        vertical-align: middle;\n",
       "    }\n",
       "\n",
       "    .dataframe tbody tr th {\n",
       "        vertical-align: top;\n",
       "    }\n",
       "\n",
       "    .dataframe thead th {\n",
       "        text-align: right;\n",
       "    }\n",
       "</style>\n",
       "<table border=\"1\" class=\"dataframe\">\n",
       "  <thead>\n",
       "    <tr style=\"text-align: right;\">\n",
       "      <th></th>\n",
       "      <th>region</th>\n",
       "      <th>Gold</th>\n",
       "      <th>Silver</th>\n",
       "      <th>Bronze</th>\n",
       "      <th>total</th>\n",
       "    </tr>\n",
       "  </thead>\n",
       "  <tbody>\n",
       "    <tr>\n",
       "      <th>0</th>\n",
       "      <td>USA</td>\n",
       "      <td>1035</td>\n",
       "      <td>802</td>\n",
       "      <td>708</td>\n",
       "      <td>2545</td>\n",
       "    </tr>\n",
       "    <tr>\n",
       "      <th>1</th>\n",
       "      <td>Russia</td>\n",
       "      <td>592</td>\n",
       "      <td>498</td>\n",
       "      <td>487</td>\n",
       "      <td>1577</td>\n",
       "    </tr>\n",
       "    <tr>\n",
       "      <th>2</th>\n",
       "      <td>Germany</td>\n",
       "      <td>444</td>\n",
       "      <td>457</td>\n",
       "      <td>491</td>\n",
       "      <td>1392</td>\n",
       "    </tr>\n",
       "    <tr>\n",
       "      <th>3</th>\n",
       "      <td>UK</td>\n",
       "      <td>278</td>\n",
       "      <td>317</td>\n",
       "      <td>300</td>\n",
       "      <td>895</td>\n",
       "    </tr>\n",
       "    <tr>\n",
       "      <th>4</th>\n",
       "      <td>France</td>\n",
       "      <td>234</td>\n",
       "      <td>256</td>\n",
       "      <td>287</td>\n",
       "      <td>777</td>\n",
       "    </tr>\n",
       "    <tr>\n",
       "      <th>...</th>\n",
       "      <td>...</td>\n",
       "      <td>...</td>\n",
       "      <td>...</td>\n",
       "      <td>...</td>\n",
       "      <td>...</td>\n",
       "    </tr>\n",
       "    <tr>\n",
       "      <th>200</th>\n",
       "      <td>Vanuatu</td>\n",
       "      <td>0</td>\n",
       "      <td>0</td>\n",
       "      <td>0</td>\n",
       "      <td>0</td>\n",
       "    </tr>\n",
       "    <tr>\n",
       "      <th>201</th>\n",
       "      <td>Virgin Islands, British</td>\n",
       "      <td>0</td>\n",
       "      <td>0</td>\n",
       "      <td>0</td>\n",
       "      <td>0</td>\n",
       "    </tr>\n",
       "    <tr>\n",
       "      <th>202</th>\n",
       "      <td>Virgin Islands, US</td>\n",
       "      <td>0</td>\n",
       "      <td>1</td>\n",
       "      <td>0</td>\n",
       "      <td>1</td>\n",
       "    </tr>\n",
       "    <tr>\n",
       "      <th>203</th>\n",
       "      <td>Yemen</td>\n",
       "      <td>0</td>\n",
       "      <td>0</td>\n",
       "      <td>0</td>\n",
       "      <td>0</td>\n",
       "    </tr>\n",
       "    <tr>\n",
       "      <th>204</th>\n",
       "      <td>Zambia</td>\n",
       "      <td>0</td>\n",
       "      <td>1</td>\n",
       "      <td>1</td>\n",
       "      <td>2</td>\n",
       "    </tr>\n",
       "  </tbody>\n",
       "</table>\n",
       "<p>205 rows × 5 columns</p>\n",
       "</div>"
      ],
      "text/plain": [
       "                      region  Gold  Silver  Bronze  total\n",
       "0                        USA  1035     802     708   2545\n",
       "1                     Russia   592     498     487   1577\n",
       "2                    Germany   444     457     491   1392\n",
       "3                         UK   278     317     300    895\n",
       "4                     France   234     256     287    777\n",
       "..                       ...   ...     ...     ...    ...\n",
       "200                  Vanuatu     0       0       0      0\n",
       "201  Virgin Islands, British     0       0       0      0\n",
       "202       Virgin Islands, US     0       1       0      1\n",
       "203                    Yemen     0       0       0      0\n",
       "204                   Zambia     0       1       1      2\n",
       "\n",
       "[205 rows x 5 columns]"
      ]
     },
     "execution_count": 131,
     "metadata": {},
     "output_type": "execute_result"
    }
   ],
   "source": [
    "medal_tally"
   ]
  },
  {
   "cell_type": "code",
   "execution_count": null,
   "id": "67afd155",
   "metadata": {},
   "outputs": [],
   "source": [
    "years = df[\"Year\"].unique().tolist()"
   ]
  },
  {
   "cell_type": "code",
   "execution_count": 133,
   "id": "05eb3b92",
   "metadata": {},
   "outputs": [],
   "source": [
    "years.sort()"
   ]
  },
  {
   "cell_type": "code",
   "execution_count": 134,
   "id": "b0487416",
   "metadata": {},
   "outputs": [],
   "source": [
    "years.insert(0, \"Overall\")"
   ]
  },
  {
   "cell_type": "code",
   "execution_count": 135,
   "id": "8a31aa52",
   "metadata": {},
   "outputs": [
    {
     "data": {
      "text/plain": [
       "['Overall',\n",
       " 1896,\n",
       " 1900,\n",
       " 1904,\n",
       " 1906,\n",
       " 1908,\n",
       " 1912,\n",
       " 1920,\n",
       " 1924,\n",
       " 1928,\n",
       " 1932,\n",
       " 1936,\n",
       " 1948,\n",
       " 1952,\n",
       " 1956,\n",
       " 1960,\n",
       " 1964,\n",
       " 1968,\n",
       " 1972,\n",
       " 1976,\n",
       " 1980,\n",
       " 1984,\n",
       " 1988,\n",
       " 1992,\n",
       " 1996,\n",
       " 2000,\n",
       " 2004,\n",
       " 2008,\n",
       " 2012,\n",
       " 2016]"
      ]
     },
     "execution_count": 135,
     "metadata": {},
     "output_type": "execute_result"
    }
   ],
   "source": [
    "years"
   ]
  },
  {
   "cell_type": "code",
   "execution_count": 136,
   "id": "1063bcf2",
   "metadata": {},
   "outputs": [],
   "source": [
    "country = np.unique(df[\"region\"].dropna().values).tolist()"
   ]
  },
  {
   "cell_type": "code",
   "execution_count": 137,
   "id": "40402145",
   "metadata": {},
   "outputs": [],
   "source": [
    "country.sort()"
   ]
  },
  {
   "cell_type": "code",
   "execution_count": 139,
   "id": "f953832a",
   "metadata": {},
   "outputs": [],
   "source": [
    "country.insert(0, \"Overall\")"
   ]
  },
  {
   "cell_type": "code",
   "execution_count": 140,
   "id": "9b55f232",
   "metadata": {},
   "outputs": [
    {
     "data": {
      "text/plain": [
       "['Overall',\n",
       " 'Afghanistan',\n",
       " 'Albania',\n",
       " 'Algeria',\n",
       " 'American Samoa',\n",
       " 'Andorra',\n",
       " 'Angola',\n",
       " 'Antigua',\n",
       " 'Argentina',\n",
       " 'Armenia',\n",
       " 'Aruba',\n",
       " 'Australia',\n",
       " 'Austria',\n",
       " 'Azerbaijan',\n",
       " 'Bahamas',\n",
       " 'Bahrain',\n",
       " 'Bangladesh',\n",
       " 'Barbados',\n",
       " 'Belarus',\n",
       " 'Belgium',\n",
       " 'Belize',\n",
       " 'Benin',\n",
       " 'Bermuda',\n",
       " 'Bhutan',\n",
       " 'Boliva',\n",
       " 'Bosnia and Herzegovina',\n",
       " 'Botswana',\n",
       " 'Brazil',\n",
       " 'Brunei',\n",
       " 'Bulgaria',\n",
       " 'Burkina Faso',\n",
       " 'Burundi',\n",
       " 'Cambodia',\n",
       " 'Cameroon',\n",
       " 'Canada',\n",
       " 'Cape Verde',\n",
       " 'Cayman Islands',\n",
       " 'Central African Republic',\n",
       " 'Chad',\n",
       " 'Chile',\n",
       " 'China',\n",
       " 'Colombia',\n",
       " 'Comoros',\n",
       " 'Cook Islands',\n",
       " 'Costa Rica',\n",
       " 'Croatia',\n",
       " 'Cuba',\n",
       " 'Curacao',\n",
       " 'Cyprus',\n",
       " 'Czech Republic',\n",
       " 'Democratic Republic of the Congo',\n",
       " 'Denmark',\n",
       " 'Djibouti',\n",
       " 'Dominica',\n",
       " 'Dominican Republic',\n",
       " 'Ecuador',\n",
       " 'Egypt',\n",
       " 'El Salvador',\n",
       " 'Equatorial Guinea',\n",
       " 'Eritrea',\n",
       " 'Estonia',\n",
       " 'Ethiopia',\n",
       " 'Fiji',\n",
       " 'Finland',\n",
       " 'France',\n",
       " 'Gabon',\n",
       " 'Gambia',\n",
       " 'Georgia',\n",
       " 'Germany',\n",
       " 'Ghana',\n",
       " 'Greece',\n",
       " 'Grenada',\n",
       " 'Guam',\n",
       " 'Guatemala',\n",
       " 'Guinea',\n",
       " 'Guinea-Bissau',\n",
       " 'Guyana',\n",
       " 'Haiti',\n",
       " 'Honduras',\n",
       " 'Hungary',\n",
       " 'Iceland',\n",
       " 'India',\n",
       " 'Individual Olympic Athletes',\n",
       " 'Indonesia',\n",
       " 'Iran',\n",
       " 'Iraq',\n",
       " 'Ireland',\n",
       " 'Israel',\n",
       " 'Italy',\n",
       " 'Ivory Coast',\n",
       " 'Jamaica',\n",
       " 'Japan',\n",
       " 'Jordan',\n",
       " 'Kazakhstan',\n",
       " 'Kenya',\n",
       " 'Kiribati',\n",
       " 'Kosovo',\n",
       " 'Kuwait',\n",
       " 'Kyrgyzstan',\n",
       " 'Laos',\n",
       " 'Latvia',\n",
       " 'Lebanon',\n",
       " 'Lesotho',\n",
       " 'Liberia',\n",
       " 'Libya',\n",
       " 'Liechtenstein',\n",
       " 'Lithuania',\n",
       " 'Luxembourg',\n",
       " 'Macedonia',\n",
       " 'Madagascar',\n",
       " 'Malawi',\n",
       " 'Malaysia',\n",
       " 'Maldives',\n",
       " 'Mali',\n",
       " 'Malta',\n",
       " 'Marshall Islands',\n",
       " 'Mauritania',\n",
       " 'Mauritius',\n",
       " 'Mexico',\n",
       " 'Micronesia',\n",
       " 'Moldova',\n",
       " 'Monaco',\n",
       " 'Mongolia',\n",
       " 'Montenegro',\n",
       " 'Morocco',\n",
       " 'Mozambique',\n",
       " 'Myanmar',\n",
       " 'Namibia',\n",
       " 'Nauru',\n",
       " 'Nepal',\n",
       " 'Netherlands',\n",
       " 'New Zealand',\n",
       " 'Nicaragua',\n",
       " 'Niger',\n",
       " 'Nigeria',\n",
       " 'North Korea',\n",
       " 'Norway',\n",
       " 'Oman',\n",
       " 'Pakistan',\n",
       " 'Palau',\n",
       " 'Palestine',\n",
       " 'Panama',\n",
       " 'Papua New Guinea',\n",
       " 'Paraguay',\n",
       " 'Peru',\n",
       " 'Philippines',\n",
       " 'Poland',\n",
       " 'Portugal',\n",
       " 'Puerto Rico',\n",
       " 'Qatar',\n",
       " 'Republic of Congo',\n",
       " 'Romania',\n",
       " 'Russia',\n",
       " 'Rwanda',\n",
       " 'Saint Kitts',\n",
       " 'Saint Lucia',\n",
       " 'Saint Vincent',\n",
       " 'Samoa',\n",
       " 'San Marino',\n",
       " 'Sao Tome and Principe',\n",
       " 'Saudi Arabia',\n",
       " 'Senegal',\n",
       " 'Serbia',\n",
       " 'Seychelles',\n",
       " 'Sierra Leone',\n",
       " 'Slovakia',\n",
       " 'Slovenia',\n",
       " 'Solomon Islands',\n",
       " 'Somalia',\n",
       " 'South Africa',\n",
       " 'South Korea',\n",
       " 'South Sudan',\n",
       " 'Spain',\n",
       " 'Sri Lanka',\n",
       " 'Sudan',\n",
       " 'Suriname',\n",
       " 'Swaziland',\n",
       " 'Sweden',\n",
       " 'Switzerland',\n",
       " 'Syria',\n",
       " 'Taiwan',\n",
       " 'Tajikistan',\n",
       " 'Tanzania',\n",
       " 'Thailand',\n",
       " 'Timor-Leste',\n",
       " 'Togo',\n",
       " 'Tonga',\n",
       " 'Trinidad',\n",
       " 'Tunisia',\n",
       " 'Turkey',\n",
       " 'Turkmenistan',\n",
       " 'UK',\n",
       " 'USA',\n",
       " 'Uganda',\n",
       " 'Ukraine',\n",
       " 'United Arab Emirates',\n",
       " 'Uruguay',\n",
       " 'Uzbekistan',\n",
       " 'Vanuatu',\n",
       " 'Venezuela',\n",
       " 'Vietnam',\n",
       " 'Virgin Islands, British',\n",
       " 'Virgin Islands, US',\n",
       " 'Yemen',\n",
       " 'Zambia',\n",
       " 'Zimbabwe']"
      ]
     },
     "execution_count": 140,
     "metadata": {},
     "output_type": "execute_result"
    }
   ],
   "source": [
    "country"
   ]
  },
  {
   "cell_type": "code",
   "execution_count": 206,
   "id": "7ac307bb",
   "metadata": {},
   "outputs": [],
   "source": [
    "def fetch_medal_tally(df, year, country):\n",
    "    medal_df = df.drop_duplicates(\n",
    "        subset=[\"Team\", \"NOC\", \"Games\", \"Year\", \"City\", \"Sport\", \"Event\", \"Medal\"]\n",
    "    )\n",
    "    flag = 0\n",
    "\n",
    "    if year == \"Overall\" and country == \"Overall\":\n",
    "        temp_df = medal_df\n",
    "    if year == \"Overall\" and country != \"Overall\":\n",
    "        flag = 1\n",
    "\n",
    "        temp_df = medal_df[medal_df[\"region\"] == country]\n",
    "    if year != \"Overall\" and country == \"Overall\":\n",
    "        temp_df = medal_df[medal_df[\"Year\"] == int(year)]\n",
    "    if year != \"Overall\" and country != \"Overall\":\n",
    "        temp_df = medal_df[\n",
    "            (medal_df[\"Year\"] == int(year)) & (medal_df[\"region\"] == country)\n",
    "        ]\n",
    "\n",
    "    if flag == 1:\n",
    "        x = (\n",
    "            temp_df.groupby(\"Year\")\n",
    "            .sum()[[\"Gold\", \"Silver\", \"Bronze\"]]\n",
    "            .sort_values(\"Year\", ascending=True)\n",
    "            .reset_index()\n",
    "        )\n",
    "    else:\n",
    "        x = (\n",
    "            temp_df.groupby(\"region\")\n",
    "            .sum()[[\"Gold\", \"Silver\", \"Bronze\"]]\n",
    "            .sort_values(\"Gold\", ascending=False)\n",
    "            .reset_index()\n",
    "        )\n",
    "\n",
    "    x[\"total\"] = x[\"Gold\"] + x[\"Silver\"] + x[\"Bronze\"]\n",
    "\n",
    "    print(x)"
   ]
  },
  {
   "cell_type": "code",
   "execution_count": 208,
   "id": "57cc2920",
   "metadata": {},
   "outputs": [
    {
     "name": "stdout",
     "output_type": "stream",
     "text": [
      "    Year  Gold  Silver  Bronze  total\n",
      "0   1900     0       2       0      2\n",
      "1   1920     0       0       0      0\n",
      "2   1924     0       0       0      0\n",
      "3   1928     1       0       0      1\n",
      "4   1932     1       0       0      1\n",
      "5   1936     1       0       0      1\n",
      "6   1948     1       0       0      1\n",
      "7   1952     1       0       1      2\n",
      "8   1956     1       0       0      1\n",
      "9   1960     0       1       0      1\n",
      "10  1964     1       0       0      1\n",
      "11  1968     0       0       1      1\n",
      "12  1972     0       0       1      1\n",
      "13  1976     0       0       0      0\n",
      "14  1980     1       0       0      1\n",
      "15  1984     0       0       0      0\n",
      "16  1988     0       0       0      0\n",
      "17  1992     0       0       0      0\n",
      "18  1996     0       0       1      1\n",
      "19  2000     0       0       1      1\n",
      "20  2004     0       1       0      1\n",
      "21  2008     1       0       2      3\n",
      "22  2012     0       2       4      6\n",
      "23  2016     0       1       1      2\n"
     ]
    }
   ],
   "source": [
    "fetch_medal_tally(df, year=\"Overall\", country=\"India\")"
   ]
  },
  {
   "cell_type": "code",
   "execution_count": null,
   "id": "3e4b2922",
   "metadata": {},
   "outputs": [
    {
     "data": {
      "text/plain": [
       "28"
      ]
     },
     "execution_count": 210,
     "metadata": {},
     "output_type": "execute_result"
    }
   ],
   "source": [
    "df[\"Year\"].unique().shape[0] - 1  # No of editions"
   ]
  },
  {
   "cell_type": "code",
   "execution_count": null,
   "id": "4f727d44",
   "metadata": {},
   "outputs": [
    {
     "data": {
      "text/plain": [
       "23"
      ]
     },
     "execution_count": 211,
     "metadata": {},
     "output_type": "execute_result"
    }
   ],
   "source": [
    "df[\"City\"].unique().shape[0]  # No of cities"
   ]
  },
  {
   "cell_type": "code",
   "execution_count": null,
   "id": "82dfe7b3",
   "metadata": {},
   "outputs": [
    {
     "data": {
      "text/plain": [
       "52"
      ]
     },
     "execution_count": 212,
     "metadata": {},
     "output_type": "execute_result"
    }
   ],
   "source": [
    "df[\"Sport\"].unique().shape[0]  # No of sports"
   ]
  },
  {
   "cell_type": "code",
   "execution_count": null,
   "id": "8f5d3f5c",
   "metadata": {},
   "outputs": [
    {
     "data": {
      "text/plain": [
       "651"
      ]
     },
     "execution_count": 213,
     "metadata": {},
     "output_type": "execute_result"
    }
   ],
   "source": [
    "df[\"Event\"].unique().shape[0]  # No of events"
   ]
  },
  {
   "cell_type": "code",
   "execution_count": null,
   "id": "bf145649",
   "metadata": {},
   "outputs": [],
   "source": [
    "nations_over_time = (\n",
    "    df.drop_duplicates([\"Year\", \"region\"])[\"Year\"]\n",
    "    .value_counts()\n",
    "    .reset_index()\n",
    "    .sort_values(\"Year\")\n",
    ")"
   ]
  },
  {
   "cell_type": "code",
   "execution_count": 224,
   "id": "e44b5412",
   "metadata": {},
   "outputs": [
    {
     "data": {
      "application/vnd.microsoft.datawrangler.viewer.v0+json": {
       "columns": [
        {
         "name": "index",
         "rawType": "int64",
         "type": "integer"
        },
        {
         "name": "Year",
         "rawType": "int64",
         "type": "integer"
        },
        {
         "name": "count",
         "rawType": "int64",
         "type": "integer"
        }
       ],
       "conversionMethod": "pd.DataFrame",
       "ref": "d96279f0-8e70-4fd5-95e1-339ffbf42d38",
       "rows": [
        [
         "28",
         "1896",
         "12"
        ],
        [
         "22",
         "1900",
         "31"
        ],
        [
         "27",
         "1904",
         "14"
        ],
        [
         "26",
         "1906",
         "20"
        ],
        [
         "25",
         "1908",
         "22"
        ],
        [
         "23",
         "1912",
         "29"
        ],
        [
         "24",
         "1920",
         "29"
        ],
        [
         "21",
         "1924",
         "45"
        ],
        [
         "20",
         "1928",
         "46"
        ],
        [
         "19",
         "1932",
         "47"
        ],
        [
         "18",
         "1936",
         "49"
        ],
        [
         "17",
         "1948",
         "59"
        ],
        [
         "16",
         "1952",
         "67"
        ],
        [
         "15",
         "1956",
         "71"
        ],
        [
         "13",
         "1960",
         "83"
        ],
        [
         "11",
         "1964",
         "93"
        ],
        [
         "10",
         "1968",
         "111"
        ],
        [
         "9",
         "1972",
         "120"
        ],
        [
         "12",
         "1976",
         "91"
        ],
        [
         "14",
         "1980",
         "80"
        ],
        [
         "8",
         "1984",
         "139"
        ],
        [
         "7",
         "1988",
         "156"
        ],
        [
         "6",
         "1992",
         "168"
        ],
        [
         "5",
         "1996",
         "196"
        ],
        [
         "4",
         "2000",
         "199"
        ],
        [
         "3",
         "2004",
         "200"
        ],
        [
         "2",
         "2008",
         "202"
        ],
        [
         "1",
         "2012",
         "203"
        ],
        [
         "0",
         "2016",
         "204"
        ]
       ],
       "shape": {
        "columns": 2,
        "rows": 29
       }
      },
      "text/html": [
       "<div>\n",
       "<style scoped>\n",
       "    .dataframe tbody tr th:only-of-type {\n",
       "        vertical-align: middle;\n",
       "    }\n",
       "\n",
       "    .dataframe tbody tr th {\n",
       "        vertical-align: top;\n",
       "    }\n",
       "\n",
       "    .dataframe thead th {\n",
       "        text-align: right;\n",
       "    }\n",
       "</style>\n",
       "<table border=\"1\" class=\"dataframe\">\n",
       "  <thead>\n",
       "    <tr style=\"text-align: right;\">\n",
       "      <th></th>\n",
       "      <th>Year</th>\n",
       "      <th>count</th>\n",
       "    </tr>\n",
       "  </thead>\n",
       "  <tbody>\n",
       "    <tr>\n",
       "      <th>28</th>\n",
       "      <td>1896</td>\n",
       "      <td>12</td>\n",
       "    </tr>\n",
       "    <tr>\n",
       "      <th>22</th>\n",
       "      <td>1900</td>\n",
       "      <td>31</td>\n",
       "    </tr>\n",
       "    <tr>\n",
       "      <th>27</th>\n",
       "      <td>1904</td>\n",
       "      <td>14</td>\n",
       "    </tr>\n",
       "    <tr>\n",
       "      <th>26</th>\n",
       "      <td>1906</td>\n",
       "      <td>20</td>\n",
       "    </tr>\n",
       "    <tr>\n",
       "      <th>25</th>\n",
       "      <td>1908</td>\n",
       "      <td>22</td>\n",
       "    </tr>\n",
       "    <tr>\n",
       "      <th>23</th>\n",
       "      <td>1912</td>\n",
       "      <td>29</td>\n",
       "    </tr>\n",
       "    <tr>\n",
       "      <th>24</th>\n",
       "      <td>1920</td>\n",
       "      <td>29</td>\n",
       "    </tr>\n",
       "    <tr>\n",
       "      <th>21</th>\n",
       "      <td>1924</td>\n",
       "      <td>45</td>\n",
       "    </tr>\n",
       "    <tr>\n",
       "      <th>20</th>\n",
       "      <td>1928</td>\n",
       "      <td>46</td>\n",
       "    </tr>\n",
       "    <tr>\n",
       "      <th>19</th>\n",
       "      <td>1932</td>\n",
       "      <td>47</td>\n",
       "    </tr>\n",
       "    <tr>\n",
       "      <th>18</th>\n",
       "      <td>1936</td>\n",
       "      <td>49</td>\n",
       "    </tr>\n",
       "    <tr>\n",
       "      <th>17</th>\n",
       "      <td>1948</td>\n",
       "      <td>59</td>\n",
       "    </tr>\n",
       "    <tr>\n",
       "      <th>16</th>\n",
       "      <td>1952</td>\n",
       "      <td>67</td>\n",
       "    </tr>\n",
       "    <tr>\n",
       "      <th>15</th>\n",
       "      <td>1956</td>\n",
       "      <td>71</td>\n",
       "    </tr>\n",
       "    <tr>\n",
       "      <th>13</th>\n",
       "      <td>1960</td>\n",
       "      <td>83</td>\n",
       "    </tr>\n",
       "    <tr>\n",
       "      <th>11</th>\n",
       "      <td>1964</td>\n",
       "      <td>93</td>\n",
       "    </tr>\n",
       "    <tr>\n",
       "      <th>10</th>\n",
       "      <td>1968</td>\n",
       "      <td>111</td>\n",
       "    </tr>\n",
       "    <tr>\n",
       "      <th>9</th>\n",
       "      <td>1972</td>\n",
       "      <td>120</td>\n",
       "    </tr>\n",
       "    <tr>\n",
       "      <th>12</th>\n",
       "      <td>1976</td>\n",
       "      <td>91</td>\n",
       "    </tr>\n",
       "    <tr>\n",
       "      <th>14</th>\n",
       "      <td>1980</td>\n",
       "      <td>80</td>\n",
       "    </tr>\n",
       "    <tr>\n",
       "      <th>8</th>\n",
       "      <td>1984</td>\n",
       "      <td>139</td>\n",
       "    </tr>\n",
       "    <tr>\n",
       "      <th>7</th>\n",
       "      <td>1988</td>\n",
       "      <td>156</td>\n",
       "    </tr>\n",
       "    <tr>\n",
       "      <th>6</th>\n",
       "      <td>1992</td>\n",
       "      <td>168</td>\n",
       "    </tr>\n",
       "    <tr>\n",
       "      <th>5</th>\n",
       "      <td>1996</td>\n",
       "      <td>196</td>\n",
       "    </tr>\n",
       "    <tr>\n",
       "      <th>4</th>\n",
       "      <td>2000</td>\n",
       "      <td>199</td>\n",
       "    </tr>\n",
       "    <tr>\n",
       "      <th>3</th>\n",
       "      <td>2004</td>\n",
       "      <td>200</td>\n",
       "    </tr>\n",
       "    <tr>\n",
       "      <th>2</th>\n",
       "      <td>2008</td>\n",
       "      <td>202</td>\n",
       "    </tr>\n",
       "    <tr>\n",
       "      <th>1</th>\n",
       "      <td>2012</td>\n",
       "      <td>203</td>\n",
       "    </tr>\n",
       "    <tr>\n",
       "      <th>0</th>\n",
       "      <td>2016</td>\n",
       "      <td>204</td>\n",
       "    </tr>\n",
       "  </tbody>\n",
       "</table>\n",
       "</div>"
      ],
      "text/plain": [
       "    Year  count\n",
       "28  1896     12\n",
       "22  1900     31\n",
       "27  1904     14\n",
       "26  1906     20\n",
       "25  1908     22\n",
       "23  1912     29\n",
       "24  1920     29\n",
       "21  1924     45\n",
       "20  1928     46\n",
       "19  1932     47\n",
       "18  1936     49\n",
       "17  1948     59\n",
       "16  1952     67\n",
       "15  1956     71\n",
       "13  1960     83\n",
       "11  1964     93\n",
       "10  1968    111\n",
       "9   1972    120\n",
       "12  1976     91\n",
       "14  1980     80\n",
       "8   1984    139\n",
       "7   1988    156\n",
       "6   1992    168\n",
       "5   1996    196\n",
       "4   2000    199\n",
       "3   2004    200\n",
       "2   2008    202\n",
       "1   2012    203\n",
       "0   2016    204"
      ]
     },
     "execution_count": 224,
     "metadata": {},
     "output_type": "execute_result"
    }
   ],
   "source": [
    "nations_over_time"
   ]
  },
  {
   "cell_type": "code",
   "execution_count": 223,
   "id": "14460b7e",
   "metadata": {},
   "outputs": [],
   "source": [
    "import plotly.express as px"
   ]
  },
  {
   "cell_type": "code",
   "execution_count": 226,
   "id": "053c9fe5",
   "metadata": {},
   "outputs": [
    {
     "data": {
      "application/vnd.plotly.v1+json": {
       "config": {
        "plotlyServerURL": "https://plot.ly"
       },
       "data": [
        {
         "hovertemplate": "Year=%{x}<br>count=%{y}<extra></extra>",
         "legendgroup": "",
         "line": {
          "color": "#636efa",
          "dash": "solid"
         },
         "marker": {
          "symbol": "circle"
         },
         "mode": "lines",
         "name": "",
         "orientation": "v",
         "showlegend": false,
         "type": "scatter",
         "x": {
          "bdata": "aAdsB3AHcgd0B3gHgAeEB4gHjAeQB5wHoAekB6gHrAewB7QHuAe8B8AHxAfIB8wH0AfUB9gH3AfgBw==",
          "dtype": "i2"
         },
         "xaxis": "x",
         "y": {
          "bdata": "DAAfAA4AFAAWAB0AHQAtAC4ALwAxADsAQwBHAFMAXQBvAHgAWwBQAIsAnACoAMQAxwDIAMoAywDMAA==",
          "dtype": "i2"
         },
         "yaxis": "y"
        }
       ],
       "layout": {
        "legend": {
         "tracegroupgap": 0
        },
        "margin": {
         "t": 60
        },
        "template": {
         "data": {
          "bar": [
           {
            "error_x": {
             "color": "#2a3f5f"
            },
            "error_y": {
             "color": "#2a3f5f"
            },
            "marker": {
             "line": {
              "color": "#E5ECF6",
              "width": 0.5
             },
             "pattern": {
              "fillmode": "overlay",
              "size": 10,
              "solidity": 0.2
             }
            },
            "type": "bar"
           }
          ],
          "barpolar": [
           {
            "marker": {
             "line": {
              "color": "#E5ECF6",
              "width": 0.5
             },
             "pattern": {
              "fillmode": "overlay",
              "size": 10,
              "solidity": 0.2
             }
            },
            "type": "barpolar"
           }
          ],
          "carpet": [
           {
            "aaxis": {
             "endlinecolor": "#2a3f5f",
             "gridcolor": "white",
             "linecolor": "white",
             "minorgridcolor": "white",
             "startlinecolor": "#2a3f5f"
            },
            "baxis": {
             "endlinecolor": "#2a3f5f",
             "gridcolor": "white",
             "linecolor": "white",
             "minorgridcolor": "white",
             "startlinecolor": "#2a3f5f"
            },
            "type": "carpet"
           }
          ],
          "choropleth": [
           {
            "colorbar": {
             "outlinewidth": 0,
             "ticks": ""
            },
            "type": "choropleth"
           }
          ],
          "contour": [
           {
            "colorbar": {
             "outlinewidth": 0,
             "ticks": ""
            },
            "colorscale": [
             [
              0,
              "#0d0887"
             ],
             [
              0.1111111111111111,
              "#46039f"
             ],
             [
              0.2222222222222222,
              "#7201a8"
             ],
             [
              0.3333333333333333,
              "#9c179e"
             ],
             [
              0.4444444444444444,
              "#bd3786"
             ],
             [
              0.5555555555555556,
              "#d8576b"
             ],
             [
              0.6666666666666666,
              "#ed7953"
             ],
             [
              0.7777777777777778,
              "#fb9f3a"
             ],
             [
              0.8888888888888888,
              "#fdca26"
             ],
             [
              1,
              "#f0f921"
             ]
            ],
            "type": "contour"
           }
          ],
          "contourcarpet": [
           {
            "colorbar": {
             "outlinewidth": 0,
             "ticks": ""
            },
            "type": "contourcarpet"
           }
          ],
          "heatmap": [
           {
            "colorbar": {
             "outlinewidth": 0,
             "ticks": ""
            },
            "colorscale": [
             [
              0,
              "#0d0887"
             ],
             [
              0.1111111111111111,
              "#46039f"
             ],
             [
              0.2222222222222222,
              "#7201a8"
             ],
             [
              0.3333333333333333,
              "#9c179e"
             ],
             [
              0.4444444444444444,
              "#bd3786"
             ],
             [
              0.5555555555555556,
              "#d8576b"
             ],
             [
              0.6666666666666666,
              "#ed7953"
             ],
             [
              0.7777777777777778,
              "#fb9f3a"
             ],
             [
              0.8888888888888888,
              "#fdca26"
             ],
             [
              1,
              "#f0f921"
             ]
            ],
            "type": "heatmap"
           }
          ],
          "histogram": [
           {
            "marker": {
             "pattern": {
              "fillmode": "overlay",
              "size": 10,
              "solidity": 0.2
             }
            },
            "type": "histogram"
           }
          ],
          "histogram2d": [
           {
            "colorbar": {
             "outlinewidth": 0,
             "ticks": ""
            },
            "colorscale": [
             [
              0,
              "#0d0887"
             ],
             [
              0.1111111111111111,
              "#46039f"
             ],
             [
              0.2222222222222222,
              "#7201a8"
             ],
             [
              0.3333333333333333,
              "#9c179e"
             ],
             [
              0.4444444444444444,
              "#bd3786"
             ],
             [
              0.5555555555555556,
              "#d8576b"
             ],
             [
              0.6666666666666666,
              "#ed7953"
             ],
             [
              0.7777777777777778,
              "#fb9f3a"
             ],
             [
              0.8888888888888888,
              "#fdca26"
             ],
             [
              1,
              "#f0f921"
             ]
            ],
            "type": "histogram2d"
           }
          ],
          "histogram2dcontour": [
           {
            "colorbar": {
             "outlinewidth": 0,
             "ticks": ""
            },
            "colorscale": [
             [
              0,
              "#0d0887"
             ],
             [
              0.1111111111111111,
              "#46039f"
             ],
             [
              0.2222222222222222,
              "#7201a8"
             ],
             [
              0.3333333333333333,
              "#9c179e"
             ],
             [
              0.4444444444444444,
              "#bd3786"
             ],
             [
              0.5555555555555556,
              "#d8576b"
             ],
             [
              0.6666666666666666,
              "#ed7953"
             ],
             [
              0.7777777777777778,
              "#fb9f3a"
             ],
             [
              0.8888888888888888,
              "#fdca26"
             ],
             [
              1,
              "#f0f921"
             ]
            ],
            "type": "histogram2dcontour"
           }
          ],
          "mesh3d": [
           {
            "colorbar": {
             "outlinewidth": 0,
             "ticks": ""
            },
            "type": "mesh3d"
           }
          ],
          "parcoords": [
           {
            "line": {
             "colorbar": {
              "outlinewidth": 0,
              "ticks": ""
             }
            },
            "type": "parcoords"
           }
          ],
          "pie": [
           {
            "automargin": true,
            "type": "pie"
           }
          ],
          "scatter": [
           {
            "fillpattern": {
             "fillmode": "overlay",
             "size": 10,
             "solidity": 0.2
            },
            "type": "scatter"
           }
          ],
          "scatter3d": [
           {
            "line": {
             "colorbar": {
              "outlinewidth": 0,
              "ticks": ""
             }
            },
            "marker": {
             "colorbar": {
              "outlinewidth": 0,
              "ticks": ""
             }
            },
            "type": "scatter3d"
           }
          ],
          "scattercarpet": [
           {
            "marker": {
             "colorbar": {
              "outlinewidth": 0,
              "ticks": ""
             }
            },
            "type": "scattercarpet"
           }
          ],
          "scattergeo": [
           {
            "marker": {
             "colorbar": {
              "outlinewidth": 0,
              "ticks": ""
             }
            },
            "type": "scattergeo"
           }
          ],
          "scattergl": [
           {
            "marker": {
             "colorbar": {
              "outlinewidth": 0,
              "ticks": ""
             }
            },
            "type": "scattergl"
           }
          ],
          "scattermap": [
           {
            "marker": {
             "colorbar": {
              "outlinewidth": 0,
              "ticks": ""
             }
            },
            "type": "scattermap"
           }
          ],
          "scattermapbox": [
           {
            "marker": {
             "colorbar": {
              "outlinewidth": 0,
              "ticks": ""
             }
            },
            "type": "scattermapbox"
           }
          ],
          "scatterpolar": [
           {
            "marker": {
             "colorbar": {
              "outlinewidth": 0,
              "ticks": ""
             }
            },
            "type": "scatterpolar"
           }
          ],
          "scatterpolargl": [
           {
            "marker": {
             "colorbar": {
              "outlinewidth": 0,
              "ticks": ""
             }
            },
            "type": "scatterpolargl"
           }
          ],
          "scatterternary": [
           {
            "marker": {
             "colorbar": {
              "outlinewidth": 0,
              "ticks": ""
             }
            },
            "type": "scatterternary"
           }
          ],
          "surface": [
           {
            "colorbar": {
             "outlinewidth": 0,
             "ticks": ""
            },
            "colorscale": [
             [
              0,
              "#0d0887"
             ],
             [
              0.1111111111111111,
              "#46039f"
             ],
             [
              0.2222222222222222,
              "#7201a8"
             ],
             [
              0.3333333333333333,
              "#9c179e"
             ],
             [
              0.4444444444444444,
              "#bd3786"
             ],
             [
              0.5555555555555556,
              "#d8576b"
             ],
             [
              0.6666666666666666,
              "#ed7953"
             ],
             [
              0.7777777777777778,
              "#fb9f3a"
             ],
             [
              0.8888888888888888,
              "#fdca26"
             ],
             [
              1,
              "#f0f921"
             ]
            ],
            "type": "surface"
           }
          ],
          "table": [
           {
            "cells": {
             "fill": {
              "color": "#EBF0F8"
             },
             "line": {
              "color": "white"
             }
            },
            "header": {
             "fill": {
              "color": "#C8D4E3"
             },
             "line": {
              "color": "white"
             }
            },
            "type": "table"
           }
          ]
         },
         "layout": {
          "annotationdefaults": {
           "arrowcolor": "#2a3f5f",
           "arrowhead": 0,
           "arrowwidth": 1
          },
          "autotypenumbers": "strict",
          "coloraxis": {
           "colorbar": {
            "outlinewidth": 0,
            "ticks": ""
           }
          },
          "colorscale": {
           "diverging": [
            [
             0,
             "#8e0152"
            ],
            [
             0.1,
             "#c51b7d"
            ],
            [
             0.2,
             "#de77ae"
            ],
            [
             0.3,
             "#f1b6da"
            ],
            [
             0.4,
             "#fde0ef"
            ],
            [
             0.5,
             "#f7f7f7"
            ],
            [
             0.6,
             "#e6f5d0"
            ],
            [
             0.7,
             "#b8e186"
            ],
            [
             0.8,
             "#7fbc41"
            ],
            [
             0.9,
             "#4d9221"
            ],
            [
             1,
             "#276419"
            ]
           ],
           "sequential": [
            [
             0,
             "#0d0887"
            ],
            [
             0.1111111111111111,
             "#46039f"
            ],
            [
             0.2222222222222222,
             "#7201a8"
            ],
            [
             0.3333333333333333,
             "#9c179e"
            ],
            [
             0.4444444444444444,
             "#bd3786"
            ],
            [
             0.5555555555555556,
             "#d8576b"
            ],
            [
             0.6666666666666666,
             "#ed7953"
            ],
            [
             0.7777777777777778,
             "#fb9f3a"
            ],
            [
             0.8888888888888888,
             "#fdca26"
            ],
            [
             1,
             "#f0f921"
            ]
           ],
           "sequentialminus": [
            [
             0,
             "#0d0887"
            ],
            [
             0.1111111111111111,
             "#46039f"
            ],
            [
             0.2222222222222222,
             "#7201a8"
            ],
            [
             0.3333333333333333,
             "#9c179e"
            ],
            [
             0.4444444444444444,
             "#bd3786"
            ],
            [
             0.5555555555555556,
             "#d8576b"
            ],
            [
             0.6666666666666666,
             "#ed7953"
            ],
            [
             0.7777777777777778,
             "#fb9f3a"
            ],
            [
             0.8888888888888888,
             "#fdca26"
            ],
            [
             1,
             "#f0f921"
            ]
           ]
          },
          "colorway": [
           "#636efa",
           "#EF553B",
           "#00cc96",
           "#ab63fa",
           "#FFA15A",
           "#19d3f3",
           "#FF6692",
           "#B6E880",
           "#FF97FF",
           "#FECB52"
          ],
          "font": {
           "color": "#2a3f5f"
          },
          "geo": {
           "bgcolor": "white",
           "lakecolor": "white",
           "landcolor": "#E5ECF6",
           "showlakes": true,
           "showland": true,
           "subunitcolor": "white"
          },
          "hoverlabel": {
           "align": "left"
          },
          "hovermode": "closest",
          "mapbox": {
           "style": "light"
          },
          "paper_bgcolor": "white",
          "plot_bgcolor": "#E5ECF6",
          "polar": {
           "angularaxis": {
            "gridcolor": "white",
            "linecolor": "white",
            "ticks": ""
           },
           "bgcolor": "#E5ECF6",
           "radialaxis": {
            "gridcolor": "white",
            "linecolor": "white",
            "ticks": ""
           }
          },
          "scene": {
           "xaxis": {
            "backgroundcolor": "#E5ECF6",
            "gridcolor": "white",
            "gridwidth": 2,
            "linecolor": "white",
            "showbackground": true,
            "ticks": "",
            "zerolinecolor": "white"
           },
           "yaxis": {
            "backgroundcolor": "#E5ECF6",
            "gridcolor": "white",
            "gridwidth": 2,
            "linecolor": "white",
            "showbackground": true,
            "ticks": "",
            "zerolinecolor": "white"
           },
           "zaxis": {
            "backgroundcolor": "#E5ECF6",
            "gridcolor": "white",
            "gridwidth": 2,
            "linecolor": "white",
            "showbackground": true,
            "ticks": "",
            "zerolinecolor": "white"
           }
          },
          "shapedefaults": {
           "line": {
            "color": "#2a3f5f"
           }
          },
          "ternary": {
           "aaxis": {
            "gridcolor": "white",
            "linecolor": "white",
            "ticks": ""
           },
           "baxis": {
            "gridcolor": "white",
            "linecolor": "white",
            "ticks": ""
           },
           "bgcolor": "#E5ECF6",
           "caxis": {
            "gridcolor": "white",
            "linecolor": "white",
            "ticks": ""
           }
          },
          "title": {
           "x": 0.05
          },
          "xaxis": {
           "automargin": true,
           "gridcolor": "white",
           "linecolor": "white",
           "ticks": "",
           "title": {
            "standoff": 15
           },
           "zerolinecolor": "white",
           "zerolinewidth": 2
          },
          "yaxis": {
           "automargin": true,
           "gridcolor": "white",
           "linecolor": "white",
           "ticks": "",
           "title": {
            "standoff": 15
           },
           "zerolinecolor": "white",
           "zerolinewidth": 2
          }
         }
        },
        "xaxis": {
         "anchor": "y",
         "domain": [
          0,
          1
         ],
         "title": {
          "text": "Year"
         }
        },
        "yaxis": {
         "anchor": "x",
         "domain": [
          0,
          1
         ],
         "title": {
          "text": "count"
         }
        }
       }
      }
     },
     "metadata": {},
     "output_type": "display_data"
    }
   ],
   "source": [
    "fig = px.line(nations_over_time, x=\"Year\", y=\"count\")\n",
    "fig.show()"
   ]
  },
  {
   "cell_type": "code",
   "execution_count": null,
   "id": "05c0ce43",
   "metadata": {},
   "outputs": [
    {
     "data": {
      "application/vnd.microsoft.datawrangler.viewer.v0+json": {
       "columns": [
        {
         "name": "index",
         "rawType": "int64",
         "type": "integer"
        },
        {
         "name": "Year",
         "rawType": "int64",
         "type": "integer"
        },
        {
         "name": "count",
         "rawType": "int64",
         "type": "integer"
        }
       ],
       "conversionMethod": "pd.DataFrame",
       "ref": "ab5b429a-c3b6-4b99-8013-83e0d3d176ca",
       "rows": [
        [
         "28",
         "1896",
         "43"
        ],
        [
         "26",
         "1900",
         "90"
        ],
        [
         "25",
         "1904",
         "95"
        ],
        [
         "27",
         "1906",
         "74"
        ],
        [
         "23",
         "1908",
         "109"
        ],
        [
         "24",
         "1912",
         "107"
        ],
        [
         "14",
         "1920",
         "158"
        ],
        [
         "20",
         "1924",
         "131"
        ],
        [
         "22",
         "1928",
         "122"
        ],
        [
         "21",
         "1932",
         "131"
        ],
        [
         "18",
         "1936",
         "150"
        ],
        [
         "15",
         "1948",
         "153"
        ],
        [
         "19",
         "1952",
         "149"
        ],
        [
         "16",
         "1956",
         "151"
        ],
        [
         "17",
         "1960",
         "150"
        ],
        [
         "13",
         "1964",
         "163"
        ],
        [
         "12",
         "1968",
         "172"
        ],
        [
         "11",
         "1972",
         "193"
        ],
        [
         "10",
         "1976",
         "198"
        ],
        [
         "9",
         "1980",
         "203"
        ],
        [
         "8",
         "1984",
         "221"
        ],
        [
         "7",
         "1988",
         "237"
        ],
        [
         "6",
         "1992",
         "257"
        ],
        [
         "5",
         "1996",
         "271"
        ],
        [
         "4",
         "2000",
         "300"
        ],
        [
         "3",
         "2004",
         "301"
        ],
        [
         "1",
         "2008",
         "302"
        ],
        [
         "2",
         "2012",
         "302"
        ],
        [
         "0",
         "2016",
         "306"
        ]
       ],
       "shape": {
        "columns": 2,
        "rows": 29
       }
      },
      "text/html": [
       "<div>\n",
       "<style scoped>\n",
       "    .dataframe tbody tr th:only-of-type {\n",
       "        vertical-align: middle;\n",
       "    }\n",
       "\n",
       "    .dataframe tbody tr th {\n",
       "        vertical-align: top;\n",
       "    }\n",
       "\n",
       "    .dataframe thead th {\n",
       "        text-align: right;\n",
       "    }\n",
       "</style>\n",
       "<table border=\"1\" class=\"dataframe\">\n",
       "  <thead>\n",
       "    <tr style=\"text-align: right;\">\n",
       "      <th></th>\n",
       "      <th>Year</th>\n",
       "      <th>count</th>\n",
       "    </tr>\n",
       "  </thead>\n",
       "  <tbody>\n",
       "    <tr>\n",
       "      <th>28</th>\n",
       "      <td>1896</td>\n",
       "      <td>43</td>\n",
       "    </tr>\n",
       "    <tr>\n",
       "      <th>26</th>\n",
       "      <td>1900</td>\n",
       "      <td>90</td>\n",
       "    </tr>\n",
       "    <tr>\n",
       "      <th>25</th>\n",
       "      <td>1904</td>\n",
       "      <td>95</td>\n",
       "    </tr>\n",
       "    <tr>\n",
       "      <th>27</th>\n",
       "      <td>1906</td>\n",
       "      <td>74</td>\n",
       "    </tr>\n",
       "    <tr>\n",
       "      <th>23</th>\n",
       "      <td>1908</td>\n",
       "      <td>109</td>\n",
       "    </tr>\n",
       "    <tr>\n",
       "      <th>24</th>\n",
       "      <td>1912</td>\n",
       "      <td>107</td>\n",
       "    </tr>\n",
       "    <tr>\n",
       "      <th>14</th>\n",
       "      <td>1920</td>\n",
       "      <td>158</td>\n",
       "    </tr>\n",
       "    <tr>\n",
       "      <th>20</th>\n",
       "      <td>1924</td>\n",
       "      <td>131</td>\n",
       "    </tr>\n",
       "    <tr>\n",
       "      <th>22</th>\n",
       "      <td>1928</td>\n",
       "      <td>122</td>\n",
       "    </tr>\n",
       "    <tr>\n",
       "      <th>21</th>\n",
       "      <td>1932</td>\n",
       "      <td>131</td>\n",
       "    </tr>\n",
       "    <tr>\n",
       "      <th>18</th>\n",
       "      <td>1936</td>\n",
       "      <td>150</td>\n",
       "    </tr>\n",
       "    <tr>\n",
       "      <th>15</th>\n",
       "      <td>1948</td>\n",
       "      <td>153</td>\n",
       "    </tr>\n",
       "    <tr>\n",
       "      <th>19</th>\n",
       "      <td>1952</td>\n",
       "      <td>149</td>\n",
       "    </tr>\n",
       "    <tr>\n",
       "      <th>16</th>\n",
       "      <td>1956</td>\n",
       "      <td>151</td>\n",
       "    </tr>\n",
       "    <tr>\n",
       "      <th>17</th>\n",
       "      <td>1960</td>\n",
       "      <td>150</td>\n",
       "    </tr>\n",
       "    <tr>\n",
       "      <th>13</th>\n",
       "      <td>1964</td>\n",
       "      <td>163</td>\n",
       "    </tr>\n",
       "    <tr>\n",
       "      <th>12</th>\n",
       "      <td>1968</td>\n",
       "      <td>172</td>\n",
       "    </tr>\n",
       "    <tr>\n",
       "      <th>11</th>\n",
       "      <td>1972</td>\n",
       "      <td>193</td>\n",
       "    </tr>\n",
       "    <tr>\n",
       "      <th>10</th>\n",
       "      <td>1976</td>\n",
       "      <td>198</td>\n",
       "    </tr>\n",
       "    <tr>\n",
       "      <th>9</th>\n",
       "      <td>1980</td>\n",
       "      <td>203</td>\n",
       "    </tr>\n",
       "    <tr>\n",
       "      <th>8</th>\n",
       "      <td>1984</td>\n",
       "      <td>221</td>\n",
       "    </tr>\n",
       "    <tr>\n",
       "      <th>7</th>\n",
       "      <td>1988</td>\n",
       "      <td>237</td>\n",
       "    </tr>\n",
       "    <tr>\n",
       "      <th>6</th>\n",
       "      <td>1992</td>\n",
       "      <td>257</td>\n",
       "    </tr>\n",
       "    <tr>\n",
       "      <th>5</th>\n",
       "      <td>1996</td>\n",
       "      <td>271</td>\n",
       "    </tr>\n",
       "    <tr>\n",
       "      <th>4</th>\n",
       "      <td>2000</td>\n",
       "      <td>300</td>\n",
       "    </tr>\n",
       "    <tr>\n",
       "      <th>3</th>\n",
       "      <td>2004</td>\n",
       "      <td>301</td>\n",
       "    </tr>\n",
       "    <tr>\n",
       "      <th>1</th>\n",
       "      <td>2008</td>\n",
       "      <td>302</td>\n",
       "    </tr>\n",
       "    <tr>\n",
       "      <th>2</th>\n",
       "      <td>2012</td>\n",
       "      <td>302</td>\n",
       "    </tr>\n",
       "    <tr>\n",
       "      <th>0</th>\n",
       "      <td>2016</td>\n",
       "      <td>306</td>\n",
       "    </tr>\n",
       "  </tbody>\n",
       "</table>\n",
       "</div>"
      ],
      "text/plain": [
       "    Year  count\n",
       "28  1896     43\n",
       "26  1900     90\n",
       "25  1904     95\n",
       "27  1906     74\n",
       "23  1908    109\n",
       "24  1912    107\n",
       "14  1920    158\n",
       "20  1924    131\n",
       "22  1928    122\n",
       "21  1932    131\n",
       "18  1936    150\n",
       "15  1948    153\n",
       "19  1952    149\n",
       "16  1956    151\n",
       "17  1960    150\n",
       "13  1964    163\n",
       "12  1968    172\n",
       "11  1972    193\n",
       "10  1976    198\n",
       "9   1980    203\n",
       "8   1984    221\n",
       "7   1988    237\n",
       "6   1992    257\n",
       "5   1996    271\n",
       "4   2000    300\n",
       "3   2004    301\n",
       "1   2008    302\n",
       "2   2012    302\n",
       "0   2016    306"
      ]
     },
     "execution_count": 227,
     "metadata": {},
     "output_type": "execute_result"
    }
   ],
   "source": [
    "df.drop_duplicates([\"Year\", \"Event\"])[\"Year\"].value_counts().reset_index().sort_values(\n",
    "    \"Year\"\n",
    ")"
   ]
  },
  {
   "cell_type": "code",
   "execution_count": 228,
   "id": "f58683d4",
   "metadata": {},
   "outputs": [],
   "source": [
    "x = df.drop_duplicates([\"Year\", \"Sport\", \"Event\"])"
   ]
  },
  {
   "cell_type": "code",
   "execution_count": 234,
   "id": "d23349e2",
   "metadata": {},
   "outputs": [],
   "source": [
    "import seaborn as sns\n",
    "import matplotlib.pyplot as plt"
   ]
  },
  {
   "cell_type": "code",
   "execution_count": null,
   "id": "1fe50f7e",
   "metadata": {},
   "outputs": [
    {
     "data": {
      "text/plain": [
       "<Axes: xlabel='Year', ylabel='Sport'>"
      ]
     },
     "execution_count": 236,
     "metadata": {},
     "output_type": "execute_result"
    },
    {
     "data": {
      "image/png": "[encoded data removed]",
      "text/plain": [
       "<Figure size 2000x2000 with 2 Axes>"
      ]
     },
     "metadata": {},
     "output_type": "display_data"
    }
   ],
   "source": [
    "plt.figure(figsize=(20, 20))\n",
    "sns.heatmap(\n",
    "    x.pivot_table(index=\"Sport\", columns=\"Year\", values=\"Event\", aggfunc=\"count\")\n",
    "    .fillna(0)\n",
    "    .astype(int),\n",
    "    annot=True,\n",
    ")"
   ]
  },
  {
   "cell_type": "code",
   "execution_count": 310,
   "id": "6794afdf",
   "metadata": {},
   "outputs": [],
   "source": [
    "def most_successful(df, sport):\n",
    "    df.columns = df.columns.str.strip()\n",
    "    temp_df = df.dropna(subset=[\"Medal\"])\n",
    "\n",
    "    if sport != \"Overall\":\n",
    "        temp_df = temp_df[temp_df[\"Sport\"] == sport]\n",
    "\n",
    "    # Count medals per athlete and rename properly\n",
    "    top_athletes = (\n",
    "        temp_df[\"Name\"]\n",
    "        .value_counts()\n",
    "        .reset_index()\n",
    "        .rename(\n",
    "            columns={\"Medal Count\": \"Name\", \"count\": \"Medal Count\"}\n",
    "        )  # Use this if column is still 'Name'\n",
    "        .head(15)\n",
    "    )\n",
    "\n",
    "    # Merge with original df to get more info\n",
    "    merged_df = top_athletes.merge(df, on=\"Name\", how=\"left\")[\n",
    "        [\"Name\", \"Medal Count\", \"Sport\", \"region\"]\n",
    "    ].drop_duplicates(\"Name\")\n",
    "\n",
    "    return merged_df.reset_index(drop=True)"
   ]
  },
  {
   "cell_type": "code",
   "execution_count": 288,
   "id": "98f5e539",
   "metadata": {},
   "outputs": [
    {
     "data": {
      "application/vnd.microsoft.datawrangler.viewer.v0+json": {
       "columns": [
        {
         "name": "index",
         "rawType": "int64",
         "type": "integer"
        },
        {
         "name": "Name",
         "rawType": "object",
         "type": "string"
        },
        {
         "name": "Medal Count",
         "rawType": "int64",
         "type": "integer"
        },
        {
         "name": "Sport",
         "rawType": "object",
         "type": "string"
        },
        {
         "name": "region",
         "rawType": "object",
         "type": "string"
        }
       ],
       "conversionMethod": "pd.DataFrame",
       "ref": "d868fef1-3bf3-4f72-ac6a-7bb99876a7b1",
       "rows": [
        [
         "0",
         "Michael Fred Phelps, II",
         "28",
         "Swimming",
         "USA"
        ],
        [
         "1",
         "Ryan Steven Lochte",
         "12",
         "Swimming",
         "USA"
        ],
        [
         "2",
         "Jennifer Elisabeth \"Jenny\" Thompson (-Cumpelik)",
         "12",
         "Swimming",
         "USA"
        ],
        [
         "3",
         "Dara Grace Torres (-Hoffman, -Minas)",
         "12",
         "Swimming",
         "USA"
        ],
        [
         "4",
         "Natalie Anne Coughlin (-Hall)",
         "12",
         "Swimming",
         "USA"
        ],
        [
         "5",
         "Mark Andrew Spitz",
         "11",
         "Swimming",
         "USA"
        ],
        [
         "6",
         "Matthew Nicholas \"Matt\" Biondi",
         "11",
         "Swimming",
         "USA"
        ],
        [
         "7",
         "Franziska van Almsick",
         "10",
         "Swimming",
         "Germany"
        ],
        [
         "8",
         "Gary Wayne Hall, Jr.",
         "10",
         "Swimming",
         "USA"
        ],
        [
         "9",
         "Aleksandr Vladimirovich Popov",
         "9",
         "Swimming",
         "Russia"
        ],
        [
         "10",
         "Zoltn Imre dn von Halmay",
         "9",
         "Swimming",
         "Hungary"
        ],
        [
         "11",
         "Ian James Thorpe",
         "9",
         "Swimming",
         "Australia"
        ],
        [
         "12",
         "Leisel Marie Jones",
         "9",
         "Swimming",
         "Australia"
        ],
        [
         "13",
         "Shirley Frances Babashoff",
         "9",
         "Swimming",
         "USA"
        ],
        [
         "14",
         "Allison Rodgers Schmitt",
         "8",
         "Swimming",
         "USA"
        ]
       ],
       "shape": {
        "columns": 4,
        "rows": 15
       }
      },
      "text/html": [
       "<div>\n",
       "<style scoped>\n",
       "    .dataframe tbody tr th:only-of-type {\n",
       "        vertical-align: middle;\n",
       "    }\n",
       "\n",
       "    .dataframe tbody tr th {\n",
       "        vertical-align: top;\n",
       "    }\n",
       "\n",
       "    .dataframe thead th {\n",
       "        text-align: right;\n",
       "    }\n",
       "</style>\n",
       "<table border=\"1\" class=\"dataframe\">\n",
       "  <thead>\n",
       "    <tr style=\"text-align: right;\">\n",
       "      <th></th>\n",
       "      <th>Name</th>\n",
       "      <th>Medal Count</th>\n",
       "      <th>Sport</th>\n",
       "      <th>region</th>\n",
       "    </tr>\n",
       "  </thead>\n",
       "  <tbody>\n",
       "    <tr>\n",
       "      <th>0</th>\n",
       "      <td>Michael Fred Phelps, II</td>\n",
       "      <td>28</td>\n",
       "      <td>Swimming</td>\n",
       "      <td>USA</td>\n",
       "    </tr>\n",
       "    <tr>\n",
       "      <th>1</th>\n",
       "      <td>Ryan Steven Lochte</td>\n",
       "      <td>12</td>\n",
       "      <td>Swimming</td>\n",
       "      <td>USA</td>\n",
       "    </tr>\n",
       "    <tr>\n",
       "      <th>2</th>\n",
       "      <td>Jennifer Elisabeth \"Jenny\" Thompson (-Cumpelik)</td>\n",
       "      <td>12</td>\n",
       "      <td>Swimming</td>\n",
       "      <td>USA</td>\n",
       "    </tr>\n",
       "    <tr>\n",
       "      <th>3</th>\n",
       "      <td>Dara Grace Torres (-Hoffman, -Minas)</td>\n",
       "      <td>12</td>\n",
       "      <td>Swimming</td>\n",
       "      <td>USA</td>\n",
       "    </tr>\n",
       "    <tr>\n",
       "      <th>4</th>\n",
       "      <td>Natalie Anne Coughlin (-Hall)</td>\n",
       "      <td>12</td>\n",
       "      <td>Swimming</td>\n",
       "      <td>USA</td>\n",
       "    </tr>\n",
       "    <tr>\n",
       "      <th>5</th>\n",
       "      <td>Mark Andrew Spitz</td>\n",
       "      <td>11</td>\n",
       "      <td>Swimming</td>\n",
       "      <td>USA</td>\n",
       "    </tr>\n",
       "    <tr>\n",
       "      <th>6</th>\n",
       "      <td>Matthew Nicholas \"Matt\" Biondi</td>\n",
       "      <td>11</td>\n",
       "      <td>Swimming</td>\n",
       "      <td>USA</td>\n",
       "    </tr>\n",
       "    <tr>\n",
       "      <th>7</th>\n",
       "      <td>Franziska van Almsick</td>\n",
       "      <td>10</td>\n",
       "      <td>Swimming</td>\n",
       "      <td>Germany</td>\n",
       "    </tr>\n",
       "    <tr>\n",
       "      <th>8</th>\n",
       "      <td>Gary Wayne Hall, Jr.</td>\n",
       "      <td>10</td>\n",
       "      <td>Swimming</td>\n",
       "      <td>USA</td>\n",
       "    </tr>\n",
       "    <tr>\n",
       "      <th>9</th>\n",
       "      <td>Aleksandr Vladimirovich Popov</td>\n",
       "      <td>9</td>\n",
       "      <td>Swimming</td>\n",
       "      <td>Russia</td>\n",
       "    </tr>\n",
       "    <tr>\n",
       "      <th>10</th>\n",
       "      <td>Zoltn Imre dn von Halmay</td>\n",
       "      <td>9</td>\n",
       "      <td>Swimming</td>\n",
       "      <td>Hungary</td>\n",
       "    </tr>\n",
       "    <tr>\n",
       "      <th>11</th>\n",
       "      <td>Ian James Thorpe</td>\n",
       "      <td>9</td>\n",
       "      <td>Swimming</td>\n",
       "      <td>Australia</td>\n",
       "    </tr>\n",
       "    <tr>\n",
       "      <th>12</th>\n",
       "      <td>Leisel Marie Jones</td>\n",
       "      <td>9</td>\n",
       "      <td>Swimming</td>\n",
       "      <td>Australia</td>\n",
       "    </tr>\n",
       "    <tr>\n",
       "      <th>13</th>\n",
       "      <td>Shirley Frances Babashoff</td>\n",
       "      <td>9</td>\n",
       "      <td>Swimming</td>\n",
       "      <td>USA</td>\n",
       "    </tr>\n",
       "    <tr>\n",
       "      <th>14</th>\n",
       "      <td>Allison Rodgers Schmitt</td>\n",
       "      <td>8</td>\n",
       "      <td>Swimming</td>\n",
       "      <td>USA</td>\n",
       "    </tr>\n",
       "  </tbody>\n",
       "</table>\n",
       "</div>"
      ],
      "text/plain": [
       "                                               Name  Medal Count     Sport  \\\n",
       "0                           Michael Fred Phelps, II           28  Swimming   \n",
       "1                                Ryan Steven Lochte           12  Swimming   \n",
       "2   Jennifer Elisabeth \"Jenny\" Thompson (-Cumpelik)           12  Swimming   \n",
       "3              Dara Grace Torres (-Hoffman, -Minas)           12  Swimming   \n",
       "4                     Natalie Anne Coughlin (-Hall)           12  Swimming   \n",
       "5                                 Mark Andrew Spitz           11  Swimming   \n",
       "6                    Matthew Nicholas \"Matt\" Biondi           11  Swimming   \n",
       "7                             Franziska van Almsick           10  Swimming   \n",
       "8                              Gary Wayne Hall, Jr.           10  Swimming   \n",
       "9                     Aleksandr Vladimirovich Popov            9  Swimming   \n",
       "10                         Zoltn Imre dn von Halmay            9  Swimming   \n",
       "11                                 Ian James Thorpe            9  Swimming   \n",
       "12                               Leisel Marie Jones            9  Swimming   \n",
       "13                        Shirley Frances Babashoff            9  Swimming   \n",
       "14                          Allison Rodgers Schmitt            8  Swimming   \n",
       "\n",
       "       region  \n",
       "0         USA  \n",
       "1         USA  \n",
       "2         USA  \n",
       "3         USA  \n",
       "4         USA  \n",
       "5         USA  \n",
       "6         USA  \n",
       "7     Germany  \n",
       "8         USA  \n",
       "9      Russia  \n",
       "10    Hungary  \n",
       "11  Australia  \n",
       "12  Australia  \n",
       "13        USA  \n",
       "14        USA  "
      ]
     },
     "execution_count": 288,
     "metadata": {},
     "output_type": "execute_result"
    }
   ],
   "source": [
    "most_successful(df, \"Swimming\")"
   ]
  },
  {
   "cell_type": "code",
   "execution_count": 294,
   "id": "92801696",
   "metadata": {},
   "outputs": [
    {
     "name": "stderr",
     "output_type": "stream",
     "text": [
      "C:\\Users\\tarun\\AppData\\Local\\Temp\\ipykernel_23324\\2433936130.py:4: SettingWithCopyWarning:\n",
      "\n",
      "\n",
      "A value is trying to be set on a copy of a slice from a DataFrame\n",
      "\n",
      "See the caveats in the documentation: https://pandas.pydata.org/pandas-docs/stable/user_guide/indexing.html#returning-a-view-versus-a-copy\n",
      "\n"
     ]
    }
   ],
   "source": [
    "# Country wise analysis\n",
    "\n",
    "temp_df = df.dropna(subset=[\"Medal\"])\n",
    "temp_df.drop_duplicates(subset=[\"Team\", \"NOC\", \"Games\", \"Year\", \"City\", \"Sport\", \"Event\", \"Medal\"], inplace=True)"
   ]
  },
  {
   "cell_type": "code",
   "execution_count": 300,
   "id": "fb0f2b96",
   "metadata": {},
   "outputs": [],
   "source": [
    "new_df = temp_df[temp_df[\"region\"] == \"India\"]\n",
    "final_df = new_df.groupby(\"Year\").count()[\"Medal\"].reset_index()"
   ]
  },
  {
   "cell_type": "code",
   "execution_count": 301,
   "id": "48755a2e",
   "metadata": {},
   "outputs": [
    {
     "data": {
      "application/vnd.plotly.v1+json": {
       "config": {
        "plotlyServerURL": "https://plot.ly"
       },
       "data": [
        {
         "hovertemplate": "Year=%{x}<br>Medal=%{y}<extra></extra>",
         "legendgroup": "",
         "line": {
          "color": "#636efa",
          "dash": "solid"
         },
         "marker": {
          "symbol": "circle"
         },
         "mode": "lines",
         "name": "",
         "orientation": "v",
         "showlegend": false,
         "type": "scatter",
         "x": {
          "bdata": "bAeIB4wHkAecB6AHpAeoB6wHsAe0B7wHzAfQB9QH2AfcB+AH",
          "dtype": "i2"
         },
         "xaxis": "x",
         "y": {
          "bdata": "AgEBAQECAQEBAQEBAQEBAwYC",
          "dtype": "i1"
         },
         "yaxis": "y"
        }
       ],
       "layout": {
        "legend": {
         "tracegroupgap": 0
        },
        "margin": {
         "t": 60
        },
        "template": {
         "data": {
          "bar": [
           {
            "error_x": {
             "color": "#2a3f5f"
            },
            "error_y": {
             "color": "#2a3f5f"
            },
            "marker": {
             "line": {
              "color": "#E5ECF6",
              "width": 0.5
             },
             "pattern": {
              "fillmode": "overlay",
              "size": 10,
              "solidity": 0.2
             }
            },
            "type": "bar"
           }
          ],
          "barpolar": [
           {
            "marker": {
             "line": {
              "color": "#E5ECF6",
              "width": 0.5
             },
             "pattern": {
              "fillmode": "overlay",
              "size": 10,
              "solidity": 0.2
             }
            },
            "type": "barpolar"
           }
          ],
          "carpet": [
           {
            "aaxis": {
             "endlinecolor": "#2a3f5f",
             "gridcolor": "white",
             "linecolor": "white",
             "minorgridcolor": "white",
             "startlinecolor": "#2a3f5f"
            },
            "baxis": {
             "endlinecolor": "#2a3f5f",
             "gridcolor": "white",
             "linecolor": "white",
             "minorgridcolor": "white",
             "startlinecolor": "#2a3f5f"
            },
            "type": "carpet"
           }
          ],
          "choropleth": [
           {
            "colorbar": {
             "outlinewidth": 0,
             "ticks": ""
            },
            "type": "choropleth"
           }
          ],
          "contour": [
           {
            "colorbar": {
             "outlinewidth": 0,
             "ticks": ""
            },
            "colorscale": [
             [
              0,
              "#0d0887"
             ],
             [
              0.1111111111111111,
              "#46039f"
             ],
             [
              0.2222222222222222,
              "#7201a8"
             ],
             [
              0.3333333333333333,
              "#9c179e"
             ],
             [
              0.4444444444444444,
              "#bd3786"
             ],
             [
              0.5555555555555556,
              "#d8576b"
             ],
             [
              0.6666666666666666,
              "#ed7953"
             ],
             [
              0.7777777777777778,
              "#fb9f3a"
             ],
             [
              0.8888888888888888,
              "#fdca26"
             ],
             [
              1,
              "#f0f921"
             ]
            ],
            "type": "contour"
           }
          ],
          "contourcarpet": [
           {
            "colorbar": {
             "outlinewidth": 0,
             "ticks": ""
            },
            "type": "contourcarpet"
           }
          ],
          "heatmap": [
           {
            "colorbar": {
             "outlinewidth": 0,
             "ticks": ""
            },
            "colorscale": [
             [
              0,
              "#0d0887"
             ],
             [
              0.1111111111111111,
              "#46039f"
             ],
             [
              0.2222222222222222,
              "#7201a8"
             ],
             [
              0.3333333333333333,
              "#9c179e"
             ],
             [
              0.4444444444444444,
              "#bd3786"
             ],
             [
              0.5555555555555556,
              "#d8576b"
             ],
             [
              0.6666666666666666,
              "#ed7953"
             ],
             [
              0.7777777777777778,
              "#fb9f3a"
             ],
             [
              0.8888888888888888,
              "#fdca26"
             ],
             [
              1,
              "#f0f921"
             ]
            ],
            "type": "heatmap"
           }
          ],
          "histogram": [
           {
            "marker": {
             "pattern": {
              "fillmode": "overlay",
              "size": 10,
              "solidity": 0.2
             }
            },
            "type": "histogram"
           }
          ],
          "histogram2d": [
           {
            "colorbar": {
             "outlinewidth": 0,
             "ticks": ""
            },
            "colorscale": [
             [
              0,
              "#0d0887"
             ],
             [
              0.1111111111111111,
              "#46039f"
             ],
             [
              0.2222222222222222,
              "#7201a8"
             ],
             [
              0.3333333333333333,
              "#9c179e"
             ],
             [
              0.4444444444444444,
              "#bd3786"
             ],
             [
              0.5555555555555556,
              "#d8576b"
             ],
             [
              0.6666666666666666,
              "#ed7953"
             ],
             [
              0.7777777777777778,
              "#fb9f3a"
             ],
             [
              0.8888888888888888,
              "#fdca26"
             ],
             [
              1,
              "#f0f921"
             ]
            ],
            "type": "histogram2d"
           }
          ],
          "histogram2dcontour": [
           {
            "colorbar": {
             "outlinewidth": 0,
             "ticks": ""
            },
            "colorscale": [
             [
              0,
              "#0d0887"
             ],
             [
              0.1111111111111111,
              "#46039f"
             ],
             [
              0.2222222222222222,
              "#7201a8"
             ],
             [
              0.3333333333333333,
              "#9c179e"
             ],
             [
              0.4444444444444444,
              "#bd3786"
             ],
             [
              0.5555555555555556,
              "#d8576b"
             ],
             [
              0.6666666666666666,
              "#ed7953"
             ],
             [
              0.7777777777777778,
              "#fb9f3a"
             ],
             [
              0.8888888888888888,
              "#fdca26"
             ],
             [
              1,
              "#f0f921"
             ]
            ],
            "type": "histogram2dcontour"
           }
          ],
          "mesh3d": [
           {
            "colorbar": {
             "outlinewidth": 0,
             "ticks": ""
            },
            "type": "mesh3d"
           }
          ],
          "parcoords": [
           {
            "line": {
             "colorbar": {
              "outlinewidth": 0,
              "ticks": ""
             }
            },
            "type": "parcoords"
           }
          ],
          "pie": [
           {
            "automargin": true,
            "type": "pie"
           }
          ],
          "scatter": [
           {
            "fillpattern": {
             "fillmode": "overlay",
             "size": 10,
             "solidity": 0.2
            },
            "type": "scatter"
           }
          ],
          "scatter3d": [
           {
            "line": {
             "colorbar": {
              "outlinewidth": 0,
              "ticks": ""
             }
            },
            "marker": {
             "colorbar": {
              "outlinewidth": 0,
              "ticks": ""
             }
            },
            "type": "scatter3d"
           }
          ],
          "scattercarpet": [
           {
            "marker": {
             "colorbar": {
              "outlinewidth": 0,
              "ticks": ""
             }
            },
            "type": "scattercarpet"
           }
          ],
          "scattergeo": [
           {
            "marker": {
             "colorbar": {
              "outlinewidth": 0,
              "ticks": ""
             }
            },
            "type": "scattergeo"
           }
          ],
          "scattergl": [
           {
            "marker": {
             "colorbar": {
              "outlinewidth": 0,
              "ticks": ""
             }
            },
            "type": "scattergl"
           }
          ],
          "scattermap": [
           {
            "marker": {
             "colorbar": {
              "outlinewidth": 0,
              "ticks": ""
             }
            },
            "type": "scattermap"
           }
          ],
          "scattermapbox": [
           {
            "marker": {
             "colorbar": {
              "outlinewidth": 0,
              "ticks": ""
             }
            },
            "type": "scattermapbox"
           }
          ],
          "scatterpolar": [
           {
            "marker": {
             "colorbar": {
              "outlinewidth": 0,
              "ticks": ""
             }
            },
            "type": "scatterpolar"
           }
          ],
          "scatterpolargl": [
           {
            "marker": {
             "colorbar": {
              "outlinewidth": 0,
              "ticks": ""
             }
            },
            "type": "scatterpolargl"
           }
          ],
          "scatterternary": [
           {
            "marker": {
             "colorbar": {
              "outlinewidth": 0,
              "ticks": ""
             }
            },
            "type": "scatterternary"
           }
          ],
          "surface": [
           {
            "colorbar": {
             "outlinewidth": 0,
             "ticks": ""
            },
            "colorscale": [
             [
              0,
              "#0d0887"
             ],
             [
              0.1111111111111111,
              "#46039f"
             ],
             [
              0.2222222222222222,
              "#7201a8"
             ],
             [
              0.3333333333333333,
              "#9c179e"
             ],
             [
              0.4444444444444444,
              "#bd3786"
             ],
             [
              0.5555555555555556,
              "#d8576b"
             ],
             [
              0.6666666666666666,
              "#ed7953"
             ],
             [
              0.7777777777777778,
              "#fb9f3a"
             ],
             [
              0.8888888888888888,
              "#fdca26"
             ],
             [
              1,
              "#f0f921"
             ]
            ],
            "type": "surface"
           }
          ],
          "table": [
           {
            "cells": {
             "fill": {
              "color": "#EBF0F8"
             },
             "line": {
              "color": "white"
             }
            },
            "header": {
             "fill": {
              "color": "#C8D4E3"
             },
             "line": {
              "color": "white"
             }
            },
            "type": "table"
           }
          ]
         },
         "layout": {
          "annotationdefaults": {
           "arrowcolor": "#2a3f5f",
           "arrowhead": 0,
           "arrowwidth": 1
          },
          "autotypenumbers": "strict",
          "coloraxis": {
           "colorbar": {
            "outlinewidth": 0,
            "ticks": ""
           }
          },
          "colorscale": {
           "diverging": [
            [
             0,
             "#8e0152"
            ],
            [
             0.1,
             "#c51b7d"
            ],
            [
             0.2,
             "#de77ae"
            ],
            [
             0.3,
             "#f1b6da"
            ],
            [
             0.4,
             "#fde0ef"
            ],
            [
             0.5,
             "#f7f7f7"
            ],
            [
             0.6,
             "#e6f5d0"
            ],
            [
             0.7,
             "#b8e186"
            ],
            [
             0.8,
             "#7fbc41"
            ],
            [
             0.9,
             "#4d9221"
            ],
            [
             1,
             "#276419"
            ]
           ],
           "sequential": [
            [
             0,
             "#0d0887"
            ],
            [
             0.1111111111111111,
             "#46039f"
            ],
            [
             0.2222222222222222,
             "#7201a8"
            ],
            [
             0.3333333333333333,
             "#9c179e"
            ],
            [
             0.4444444444444444,
             "#bd3786"
            ],
            [
             0.5555555555555556,
             "#d8576b"
            ],
            [
             0.6666666666666666,
             "#ed7953"
            ],
            [
             0.7777777777777778,
             "#fb9f3a"
            ],
            [
             0.8888888888888888,
             "#fdca26"
            ],
            [
             1,
             "#f0f921"
            ]
           ],
           "sequentialminus": [
            [
             0,
             "#0d0887"
            ],
            [
             0.1111111111111111,
             "#46039f"
            ],
            [
             0.2222222222222222,
             "#7201a8"
            ],
            [
             0.3333333333333333,
             "#9c179e"
            ],
            [
             0.4444444444444444,
             "#bd3786"
            ],
            [
             0.5555555555555556,
             "#d8576b"
            ],
            [
             0.6666666666666666,
             "#ed7953"
            ],
            [
             0.7777777777777778,
             "#fb9f3a"
            ],
            [
             0.8888888888888888,
             "#fdca26"
            ],
            [
             1,
             "#f0f921"
            ]
           ]
          },
          "colorway": [
           "#636efa",
           "#EF553B",
           "#00cc96",
           "#ab63fa",
           "#FFA15A",
           "#19d3f3",
           "#FF6692",
           "#B6E880",
           "#FF97FF",
           "#FECB52"
          ],
          "font": {
           "color": "#2a3f5f"
          },
          "geo": {
           "bgcolor": "white",
           "lakecolor": "white",
           "landcolor": "#E5ECF6",
           "showlakes": true,
           "showland": true,
           "subunitcolor": "white"
          },
          "hoverlabel": {
           "align": "left"
          },
          "hovermode": "closest",
          "mapbox": {
           "style": "light"
          },
          "paper_bgcolor": "white",
          "plot_bgcolor": "#E5ECF6",
          "polar": {
           "angularaxis": {
            "gridcolor": "white",
            "linecolor": "white",
            "ticks": ""
           },
           "bgcolor": "#E5ECF6",
           "radialaxis": {
            "gridcolor": "white",
            "linecolor": "white",
            "ticks": ""
           }
          },
          "scene": {
           "xaxis": {
            "backgroundcolor": "#E5ECF6",
            "gridcolor": "white",
            "gridwidth": 2,
            "linecolor": "white",
            "showbackground": true,
            "ticks": "",
            "zerolinecolor": "white"
           },
           "yaxis": {
            "backgroundcolor": "#E5ECF6",
            "gridcolor": "white",
            "gridwidth": 2,
            "linecolor": "white",
            "showbackground": true,
            "ticks": "",
            "zerolinecolor": "white"
           },
           "zaxis": {
            "backgroundcolor": "#E5ECF6",
            "gridcolor": "white",
            "gridwidth": 2,
            "linecolor": "white",
            "showbackground": true,
            "ticks": "",
            "zerolinecolor": "white"
           }
          },
          "shapedefaults": {
           "line": {
            "color": "#2a3f5f"
           }
          },
          "ternary": {
           "aaxis": {
            "gridcolor": "white",
            "linecolor": "white",
            "ticks": ""
           },
           "baxis": {
            "gridcolor": "white",
            "linecolor": "white",
            "ticks": ""
           },
           "bgcolor": "#E5ECF6",
           "caxis": {
            "gridcolor": "white",
            "linecolor": "white",
            "ticks": ""
           }
          },
          "title": {
           "x": 0.05
          },
          "xaxis": {
           "automargin": true,
           "gridcolor": "white",
           "linecolor": "white",
           "ticks": "",
           "title": {
            "standoff": 15
           },
           "zerolinecolor": "white",
           "zerolinewidth": 2
          },
          "yaxis": {
           "automargin": true,
           "gridcolor": "white",
           "linecolor": "white",
           "ticks": "",
           "title": {
            "standoff": 15
           },
           "zerolinecolor": "white",
           "zerolinewidth": 2
          }
         }
        },
        "xaxis": {
         "anchor": "y",
         "domain": [
          0,
          1
         ],
         "title": {
          "text": "Year"
         }
        },
        "yaxis": {
         "anchor": "x",
         "domain": [
          0,
          1
         ],
         "title": {
          "text": "Medal"
         }
        }
       }
      }
     },
     "metadata": {},
     "output_type": "display_data"
    }
   ],
   "source": [
    "fig = px.line(final_df, x=\"Year\", y=\"Medal\")\n",
    "fig.show()"
   ]
  },
  {
   "cell_type": "code",
   "execution_count": 308,
   "id": "1a22ede0",
   "metadata": {},
   "outputs": [
    {
     "name": "stderr",
     "output_type": "stream",
     "text": [
      "C:\\Users\\tarun\\AppData\\Local\\Temp\\ipykernel_23324\\1427283400.py:2: SettingWithCopyWarning:\n",
      "\n",
      "\n",
      "A value is trying to be set on a copy of a slice from a DataFrame\n",
      "\n",
      "See the caveats in the documentation: https://pandas.pydata.org/pandas-docs/stable/user_guide/indexing.html#returning-a-view-versus-a-copy\n",
      "\n"
     ]
    }
   ],
   "source": [
    "temp_df = df.dropna(subset=[\"Medal\"])\n",
    "temp_df.drop_duplicates(subset=[\"Team\", \"NOC\", \"Games\", \"Year\", \"City\", \"Sport\", \"Event\", \"Medal\"], inplace=True)\n",
    "\n",
    "new_df = temp_df[temp_df[\"region\"] == \"China\"]\n",
    "final_df = new_df.pivot_table(index=\"Sport\", columns=\"Year\", values=\"Medal\", aggfunc=\"count\").fillna(0)"
   ]
  },
  {
   "cell_type": "code",
   "execution_count": 309,
   "id": "51403a63",
   "metadata": {},
   "outputs": [
    {
     "data": {
      "text/plain": [
       "<Axes: xlabel='Year', ylabel='Sport'>"
      ]
     },
     "execution_count": 309,
     "metadata": {},
     "output_type": "execute_result"
    },
    {
     "data": {
      "image/png": "[encoded data removed]",
      "text/plain": [
       "<Figure size 2000x2000 with 2 Axes>"
      ]
     },
     "metadata": {},
     "output_type": "display_data"
    }
   ],
   "source": [
    "plt.figure(figsize=(20,20))\n",
    "\n",
    "sns.heatmap(final_df, annot=True)"
   ]
  },
  {
   "cell_type": "code",
   "execution_count": 311,
   "id": "1009e4f8",
   "metadata": {},
   "outputs": [],
   "source": [
    "def most_successful_atheletes_country(df, country):\n",
    "    df.columns = df.columns.str.strip()\n",
    "    temp_df = df.dropna(subset=[\"Medal\"])\n",
    "\n",
    "    temp_df = temp_df[temp_df[\"region\"] == country]\n",
    "\n",
    "    # Count medals per athlete and rename properly\n",
    "    top_athletes = (\n",
    "        temp_df[\"Name\"]\n",
    "        .value_counts()\n",
    "        .reset_index()\n",
    "        .rename(\n",
    "            columns={\"Medal Count\": \"Name\", \"count\": \"Medal Count\"}\n",
    "        )  # Use this if column is still 'Name'\n",
    "        .head(15)\n",
    "    )\n",
    "\n",
    "    # Merge with original df to get more info\n",
    "    merged_df = top_athletes.merge(df, on=\"Name\", how=\"left\")[\n",
    "        [\"Name\", \"Medal Count\", \"Sport\"]\n",
    "    ].drop_duplicates(\"Name\")\n",
    "\n",
    "    return merged_df.reset_index(drop=True)"
   ]
  },
  {
   "cell_type": "code",
   "execution_count": 314,
   "id": "75a219c7",
   "metadata": {},
   "outputs": [
    {
     "data": {
      "application/vnd.microsoft.datawrangler.viewer.v0+json": {
       "columns": [
        {
         "name": "index",
         "rawType": "int64",
         "type": "integer"
        },
        {
         "name": "Name",
         "rawType": "object",
         "type": "string"
        },
        {
         "name": "Medal Count",
         "rawType": "int64",
         "type": "integer"
        },
        {
         "name": "Sport",
         "rawType": "object",
         "type": "string"
        }
       ],
       "conversionMethod": "pd.DataFrame",
       "ref": "d7ee08fc-7c52-4399-97d2-65208e772d0c",
       "rows": [
        [
         "0",
         "Michael Fred Phelps, II",
         "28",
         "Swimming"
        ],
        [
         "1",
         "Ryan Steven Lochte",
         "12",
         "Swimming"
        ],
        [
         "2",
         "Natalie Anne Coughlin (-Hall)",
         "12",
         "Swimming"
        ],
        [
         "3",
         "Dara Grace Torres (-Hoffman, -Minas)",
         "12",
         "Swimming"
        ],
        [
         "4",
         "Jennifer Elisabeth \"Jenny\" Thompson (-Cumpelik)",
         "12",
         "Swimming"
        ],
        [
         "5",
         "Mark Andrew Spitz",
         "11",
         "Swimming"
        ],
        [
         "6",
         "Matthew Nicholas \"Matt\" Biondi",
         "11",
         "Swimming"
        ],
        [
         "7",
         "Carl Townsend Osburn",
         "11",
         "Shooting"
        ],
        [
         "8",
         "Gary Wayne Hall, Jr.",
         "10",
         "Swimming"
        ],
        [
         "9",
         "Frederick Carlton \"Carl\" Lewis",
         "10",
         "Athletics"
        ],
        [
         "10",
         "Raymond Clarence \"Ray\" Ewry",
         "10",
         "Athletics"
        ],
        [
         "11",
         "Martin Joseph Sheridan",
         "9",
         "Athletics"
        ],
        [
         "12",
         "Allyson Michelle Felix",
         "9",
         "Athletics"
        ],
        [
         "13",
         "Shirley Frances Babashoff",
         "9",
         "Swimming"
        ],
        [
         "14",
         "Charles Meldrum \"Charlie\" Daniels",
         "8",
         "Swimming"
        ]
       ],
       "shape": {
        "columns": 3,
        "rows": 15
       }
      },
      "text/html": [
       "<div>\n",
       "<style scoped>\n",
       "    .dataframe tbody tr th:only-of-type {\n",
       "        vertical-align: middle;\n",
       "    }\n",
       "\n",
       "    .dataframe tbody tr th {\n",
       "        vertical-align: top;\n",
       "    }\n",
       "\n",
       "    .dataframe thead th {\n",
       "        text-align: right;\n",
       "    }\n",
       "</style>\n",
       "<table border=\"1\" class=\"dataframe\">\n",
       "  <thead>\n",
       "    <tr style=\"text-align: right;\">\n",
       "      <th></th>\n",
       "      <th>Name</th>\n",
       "      <th>Medal Count</th>\n",
       "      <th>Sport</th>\n",
       "    </tr>\n",
       "  </thead>\n",
       "  <tbody>\n",
       "    <tr>\n",
       "      <th>0</th>\n",
       "      <td>Michael Fred Phelps, II</td>\n",
       "      <td>28</td>\n",
       "      <td>Swimming</td>\n",
       "    </tr>\n",
       "    <tr>\n",
       "      <th>1</th>\n",
       "      <td>Ryan Steven Lochte</td>\n",
       "      <td>12</td>\n",
       "      <td>Swimming</td>\n",
       "    </tr>\n",
       "    <tr>\n",
       "      <th>2</th>\n",
       "      <td>Natalie Anne Coughlin (-Hall)</td>\n",
       "      <td>12</td>\n",
       "      <td>Swimming</td>\n",
       "    </tr>\n",
       "    <tr>\n",
       "      <th>3</th>\n",
       "      <td>Dara Grace Torres (-Hoffman, -Minas)</td>\n",
       "      <td>12</td>\n",
       "      <td>Swimming</td>\n",
       "    </tr>\n",
       "    <tr>\n",
       "      <th>4</th>\n",
       "      <td>Jennifer Elisabeth \"Jenny\" Thompson (-Cumpelik)</td>\n",
       "      <td>12</td>\n",
       "      <td>Swimming</td>\n",
       "    </tr>\n",
       "    <tr>\n",
       "      <th>5</th>\n",
       "      <td>Mark Andrew Spitz</td>\n",
       "      <td>11</td>\n",
       "      <td>Swimming</td>\n",
       "    </tr>\n",
       "    <tr>\n",
       "      <th>6</th>\n",
       "      <td>Matthew Nicholas \"Matt\" Biondi</td>\n",
       "      <td>11</td>\n",
       "      <td>Swimming</td>\n",
       "    </tr>\n",
       "    <tr>\n",
       "      <th>7</th>\n",
       "      <td>Carl Townsend Osburn</td>\n",
       "      <td>11</td>\n",
       "      <td>Shooting</td>\n",
       "    </tr>\n",
       "    <tr>\n",
       "      <th>8</th>\n",
       "      <td>Gary Wayne Hall, Jr.</td>\n",
       "      <td>10</td>\n",
       "      <td>Swimming</td>\n",
       "    </tr>\n",
       "    <tr>\n",
       "      <th>9</th>\n",
       "      <td>Frederick Carlton \"Carl\" Lewis</td>\n",
       "      <td>10</td>\n",
       "      <td>Athletics</td>\n",
       "    </tr>\n",
       "    <tr>\n",
       "      <th>10</th>\n",
       "      <td>Raymond Clarence \"Ray\" Ewry</td>\n",
       "      <td>10</td>\n",
       "      <td>Athletics</td>\n",
       "    </tr>\n",
       "    <tr>\n",
       "      <th>11</th>\n",
       "      <td>Martin Joseph Sheridan</td>\n",
       "      <td>9</td>\n",
       "      <td>Athletics</td>\n",
       "    </tr>\n",
       "    <tr>\n",
       "      <th>12</th>\n",
       "      <td>Allyson Michelle Felix</td>\n",
       "      <td>9</td>\n",
       "      <td>Athletics</td>\n",
       "    </tr>\n",
       "    <tr>\n",
       "      <th>13</th>\n",
       "      <td>Shirley Frances Babashoff</td>\n",
       "      <td>9</td>\n",
       "      <td>Swimming</td>\n",
       "    </tr>\n",
       "    <tr>\n",
       "      <th>14</th>\n",
       "      <td>Charles Meldrum \"Charlie\" Daniels</td>\n",
       "      <td>8</td>\n",
       "      <td>Swimming</td>\n",
       "    </tr>\n",
       "  </tbody>\n",
       "</table>\n",
       "</div>"
      ],
      "text/plain": [
       "                                               Name  Medal Count      Sport\n",
       "0                           Michael Fred Phelps, II           28   Swimming\n",
       "1                                Ryan Steven Lochte           12   Swimming\n",
       "2                     Natalie Anne Coughlin (-Hall)           12   Swimming\n",
       "3              Dara Grace Torres (-Hoffman, -Minas)           12   Swimming\n",
       "4   Jennifer Elisabeth \"Jenny\" Thompson (-Cumpelik)           12   Swimming\n",
       "5                                 Mark Andrew Spitz           11   Swimming\n",
       "6                    Matthew Nicholas \"Matt\" Biondi           11   Swimming\n",
       "7                              Carl Townsend Osburn           11   Shooting\n",
       "8                              Gary Wayne Hall, Jr.           10   Swimming\n",
       "9                    Frederick Carlton \"Carl\" Lewis           10  Athletics\n",
       "10                      Raymond Clarence \"Ray\" Ewry           10  Athletics\n",
       "11                           Martin Joseph Sheridan            9  Athletics\n",
       "12                           Allyson Michelle Felix            9  Athletics\n",
       "13                        Shirley Frances Babashoff            9   Swimming\n",
       "14                Charles Meldrum \"Charlie\" Daniels            8   Swimming"
      ]
     },
     "execution_count": 314,
     "metadata": {},
     "output_type": "execute_result"
    }
   ],
   "source": [
    "most_successful_atheletes_country(df, \"USA\")"
   ]
  },
  {
   "cell_type": "markdown",
   "id": "0aecabdb",
   "metadata": {},
   "source": [
    "### Athlete Wise"
   ]
  },
  {
   "cell_type": "code",
   "execution_count": null,
   "id": "601b5a03",
   "metadata": {},
   "outputs": [],
   "source": [
    "athlete_df = df.drop_duplicates(subset=[\"Name\", \"region\"])"
   ]
  },
  {
   "cell_type": "code",
   "execution_count": 318,
   "id": "3793efb3",
   "metadata": {},
   "outputs": [],
   "source": [
    "import plotly.figure_factory as ff"
   ]
  },
  {
   "cell_type": "code",
   "execution_count": 324,
   "id": "64df373a",
   "metadata": {},
   "outputs": [],
   "source": [
    "x1 = athlete_df[\"Age\"].dropna()\n",
    "x2 = athlete_df[athlete_df[\"Medal\"] == \"Gold\"][\"Age\"].dropna()\n",
    "x3 = athlete_df[athlete_df[\"Medal\"] == \"Silver\"][\"Age\"].dropna()\n",
    "x4 = athlete_df[athlete_df[\"Medal\"] == \"Bronze\"][\"Age\"].dropna()"
   ]
  },
  {
   "cell_type": "code",
   "execution_count": 326,
   "id": "7074c293",
   "metadata": {},
   "outputs": [
    {
     "data": {
      "application/vnd.plotly.v1+json": {
       "config": {
        "plotlyServerURL": "https://plot.ly"
       },
       "data": [
        {
         "legendgroup": "Overall Age",
         "marker": {
          "color": "rgb(31, 119, 180)"
         },
         "mode": "lines",
         "name": "Overall Age",
         "showlegend": true,
         "type": "scatter",
         "x": [
          10,
          10.174,
          10.348,
          10.522,
          10.696,
          10.87,
          11.044,
          11.218,
          11.392,
          11.566,
          11.74,
          11.914,
          12.088000000000001,
          12.262,
          12.436,
          12.61,
          12.783999999999999,
          12.958,
          13.132,
          13.306000000000001,
          13.48,
          13.654,
          13.828,
          14.001999999999999,
          14.176,
          14.35,
          14.524000000000001,
          14.698,
          14.872,
          15.046,
          15.219999999999999,
          15.394,
          15.568,
          15.742,
          15.916,
          16.09,
          16.264,
          16.438,
          16.612000000000002,
          16.786,
          16.96,
          17.134,
          17.308,
          17.482,
          17.656,
          17.83,
          18.003999999999998,
          18.178,
          18.352,
          18.526,
          18.7,
          18.874000000000002,
          19.048000000000002,
          19.222,
          19.396,
          19.57,
          19.744,
          19.918,
          20.092,
          20.266,
          20.439999999999998,
          20.614,
          20.788,
          20.962,
          21.136,
          21.310000000000002,
          21.484,
          21.658,
          21.832,
          22.006,
          22.18,
          22.354,
          22.528,
          22.701999999999998,
          22.875999999999998,
          23.05,
          23.224,
          23.398,
          23.572,
          23.746000000000002,
          23.92,
          24.094,
          24.268,
          24.442,
          24.616,
          24.79,
          24.964,
          25.137999999999998,
          25.311999999999998,
          25.486,
          25.66,
          25.834,
          26.008,
          26.182,
          26.356,
          26.53,
          26.704,
          26.878,
          27.052,
          27.226,
          27.4,
          27.574,
          27.748,
          27.922,
          28.096,
          28.27,
          28.444,
          28.618,
          28.792,
          28.966,
          29.14,
          29.314,
          29.488,
          29.662,
          29.836,
          30.01,
          30.184,
          30.358,
          30.532,
          30.706,
          30.88,
          31.054,
          31.228,
          31.402,
          31.576,
          31.75,
          31.924,
          32.098,
          32.272,
          32.446,
          32.620000000000005,
          32.794,
          32.968,
          33.141999999999996,
          33.316,
          33.489999999999995,
          33.664,
          33.838,
          34.012,
          34.186,
          34.36,
          34.534,
          34.708,
          34.882000000000005,
          35.056,
          35.230000000000004,
          35.403999999999996,
          35.578,
          35.751999999999995,
          35.926,
          36.1,
          36.274,
          36.448,
          36.622,
          36.796,
          36.97,
          37.144,
          37.318,
          37.492000000000004,
          37.666,
          37.84,
          38.013999999999996,
          38.188,
          38.361999999999995,
          38.536,
          38.71,
          38.884,
          39.058,
          39.232,
          39.406,
          39.58,
          39.754000000000005,
          39.928,
          40.102000000000004,
          40.275999999999996,
          40.45,
          40.623999999999995,
          40.798,
          40.972,
          41.146,
          41.32,
          41.494,
          41.668,
          41.842,
          42.016,
          42.19,
          42.364,
          42.538,
          42.712,
          42.886,
          43.06,
          43.234,
          43.408,
          43.582,
          43.756,
          43.93,
          44.104,
          44.278,
          44.452,
          44.626,
          44.8,
          44.974,
          45.148,
          45.322,
          45.496,
          45.67,
          45.844,
          46.018,
          46.192,
          46.366,
          46.54,
          46.714,
          46.888,
          47.062,
          47.236,
          47.41,
          47.584,
          47.758,
          47.932,
          48.106,
          48.28,
          48.454,
          48.628,
          48.802,
          48.976,
          49.15,
          49.324,
          49.498,
          49.672,
          49.846,
          50.02,
          50.194,
          50.368,
          50.542,
          50.716,
          50.89,
          51.064,
          51.238,
          51.412,
          51.586,
          51.76,
          51.934,
          52.108,
          52.282,
          52.456,
          52.63,
          52.804,
          52.978,
          53.152,
          53.326,
          53.5,
          53.674,
          53.848,
          54.022,
          54.196,
          54.37,
          54.544,
          54.718,
          54.892,
          55.066,
          55.24,
          55.414,
          55.588,
          55.762,
          55.936,
          56.11,
          56.284,
          56.458,
          56.632,
          56.806,
          56.98,
          57.154,
          57.328,
          57.502,
          57.676,
          57.85,
          58.024,
          58.198,
          58.372,
          58.546,
          58.72,
          58.894,
          59.068,
          59.242,
          59.416,
          59.59,
          59.764,
          59.938,
          60.112,
          60.286,
          60.46,
          60.634,
          60.808,
          60.982,
          61.156,
          61.33,
          61.504,
          61.678,
          61.852,
          62.026,
          62.2,
          62.374,
          62.548,
          62.722,
          62.896,
          63.07,
          63.244,
          63.418,
          63.592,
          63.766,
          63.94,
          64.114,
          64.288,
          64.462,
          64.636,
          64.81,
          64.98400000000001,
          65.158,
          65.332,
          65.506,
          65.68,
          65.854,
          66.02799999999999,
          66.202,
          66.376,
          66.55,
          66.72399999999999,
          66.898,
          67.072,
          67.24600000000001,
          67.42,
          67.594,
          67.768,
          67.94200000000001,
          68.116,
          68.28999999999999,
          68.464,
          68.638,
          68.812,
          68.98599999999999,
          69.16,
          69.334,
          69.50800000000001,
          69.682,
          69.856,
          70.03,
          70.20400000000001,
          70.378,
          70.55199999999999,
          70.726,
          70.9,
          71.074,
          71.24799999999999,
          71.422,
          71.596,
          71.77000000000001,
          71.944,
          72.118,
          72.292,
          72.46600000000001,
          72.64,
          72.814,
          72.988,
          73.162,
          73.336,
          73.50999999999999,
          73.684,
          73.858,
          74.032,
          74.206,
          74.38,
          74.554,
          74.728,
          74.902,
          75.076,
          75.25,
          75.424,
          75.598,
          75.772,
          75.946,
          76.12,
          76.294,
          76.468,
          76.642,
          76.816,
          76.99,
          77.164,
          77.338,
          77.512,
          77.686,
          77.86,
          78.034,
          78.208,
          78.382,
          78.556,
          78.73,
          78.904,
          79.078,
          79.252,
          79.426,
          79.6,
          79.774,
          79.948,
          80.122,
          80.296,
          80.47,
          80.644,
          80.818,
          80.992,
          81.166,
          81.34,
          81.514,
          81.688,
          81.862,
          82.036,
          82.21,
          82.384,
          82.558,
          82.732,
          82.906,
          83.08,
          83.254,
          83.428,
          83.602,
          83.776,
          83.95,
          84.124,
          84.298,
          84.472,
          84.646,
          84.82,
          84.994,
          85.168,
          85.342,
          85.516,
          85.69,
          85.864,
          86.038,
          86.212,
          86.386,
          86.56,
          86.734,
          86.908,
          87.082,
          87.256,
          87.43,
          87.604,
          87.778,
          87.952,
          88.126,
          88.3,
          88.474,
          88.648,
          88.822,
          88.996,
          89.17,
          89.344,
          89.518,
          89.692,
          89.866,
          90.04,
          90.214,
          90.388,
          90.562,
          90.736,
          90.91,
          91.084,
          91.258,
          91.432,
          91.606,
          91.78,
          91.954,
          92.128,
          92.302,
          92.476,
          92.65,
          92.824,
          92.998,
          93.172,
          93.346,
          93.52,
          93.694,
          93.868,
          94.042,
          94.216,
          94.39,
          94.564,
          94.738,
          94.912,
          95.086,
          95.26,
          95.434,
          95.608,
          95.782,
          95.956,
          96.13,
          96.304,
          96.478,
          96.652,
          96.826
         ],
         "xaxis": "x",
         "y": {
          "bdata": "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",
          "dtype": "f8"
         },
         "yaxis": "y"
        },
        {
         "legendgroup": "Gold Medalist",
         "marker": {
          "color": "rgb(255, 127, 14)"
         },
         "mode": "lines",
         "name": "Gold Medalist",
         "showlegend": true,
         "type": "scatter",
         "x": [
          13,
          13.102,
          13.204,
          13.306,
          13.408,
          13.51,
          13.612,
          13.714,
          13.816,
          13.918,
          14.02,
          14.122,
          14.224,
          14.326,
          14.428,
          14.53,
          14.632,
          14.734,
          14.836,
          14.938,
          15.04,
          15.142,
          15.244,
          15.346,
          15.448,
          15.55,
          15.652000000000001,
          15.754,
          15.856,
          15.958,
          16.06,
          16.162,
          16.264,
          16.366,
          16.468,
          16.57,
          16.672,
          16.774,
          16.876,
          16.978,
          17.08,
          17.182000000000002,
          17.284,
          17.386,
          17.488,
          17.59,
          17.692,
          17.794,
          17.896,
          17.998,
          18.1,
          18.201999999999998,
          18.304000000000002,
          18.406,
          18.508,
          18.61,
          18.712,
          18.814,
          18.916,
          19.018,
          19.12,
          19.222,
          19.323999999999998,
          19.426000000000002,
          19.528,
          19.63,
          19.732,
          19.834,
          19.936,
          20.038,
          20.14,
          20.242,
          20.344,
          20.445999999999998,
          20.548000000000002,
          20.65,
          20.752,
          20.854,
          20.956,
          21.058,
          21.16,
          21.262,
          21.364,
          21.466,
          21.567999999999998,
          21.67,
          21.772,
          21.874000000000002,
          21.976,
          22.078,
          22.18,
          22.282,
          22.384,
          22.486,
          22.588,
          22.689999999999998,
          22.792,
          22.894,
          22.996000000000002,
          23.098,
          23.2,
          23.302,
          23.404,
          23.506,
          23.608,
          23.71,
          23.811999999999998,
          23.914,
          24.016,
          24.118000000000002,
          24.22,
          24.322,
          24.424,
          24.526,
          24.628,
          24.73,
          24.832,
          24.933999999999997,
          25.036,
          25.137999999999998,
          25.240000000000002,
          25.342,
          25.444000000000003,
          25.546,
          25.648,
          25.75,
          25.852,
          25.954,
          26.055999999999997,
          26.158,
          26.259999999999998,
          26.362000000000002,
          26.464,
          26.566000000000003,
          26.668,
          26.77,
          26.872,
          26.974,
          27.076,
          27.178,
          27.28,
          27.381999999999998,
          27.484,
          27.586,
          27.688000000000002,
          27.79,
          27.892,
          27.994,
          28.096,
          28.198,
          28.3,
          28.402,
          28.503999999999998,
          28.606,
          28.708,
          28.810000000000002,
          28.912,
          29.014,
          29.116,
          29.218,
          29.32,
          29.422,
          29.524,
          29.626,
          29.728,
          29.83,
          29.932,
          30.034,
          30.136,
          30.238,
          30.34,
          30.442,
          30.544,
          30.646,
          30.748,
          30.85,
          30.952,
          31.054,
          31.156,
          31.258,
          31.36,
          31.462,
          31.564,
          31.666,
          31.768,
          31.87,
          31.972,
          32.074,
          32.176,
          32.278,
          32.379999999999995,
          32.482,
          32.584,
          32.686,
          32.788,
          32.89,
          32.992000000000004,
          33.094,
          33.196,
          33.298,
          33.4,
          33.501999999999995,
          33.604,
          33.706,
          33.808,
          33.91,
          34.012,
          34.114000000000004,
          34.216,
          34.318,
          34.42,
          34.522,
          34.623999999999995,
          34.726,
          34.828,
          34.93,
          35.032,
          35.134,
          35.236000000000004,
          35.338,
          35.44,
          35.542,
          35.644,
          35.745999999999995,
          35.848,
          35.95,
          36.052,
          36.153999999999996,
          36.256,
          36.358000000000004,
          36.46,
          36.562,
          36.664,
          36.766,
          36.867999999999995,
          36.97,
          37.072,
          37.174,
          37.275999999999996,
          37.378,
          37.480000000000004,
          37.582,
          37.684,
          37.786,
          37.888000000000005,
          37.989999999999995,
          38.092,
          38.194,
          38.296,
          38.397999999999996,
          38.5,
          38.602000000000004,
          38.704,
          38.806,
          38.908,
          39.010000000000005,
          39.111999999999995,
          39.214,
          39.316,
          39.418,
          39.519999999999996,
          39.622,
          39.724000000000004,
          39.826,
          39.928,
          40.03,
          40.132000000000005,
          40.234,
          40.336,
          40.438,
          40.54,
          40.641999999999996,
          40.744,
          40.846000000000004,
          40.948,
          41.05,
          41.152,
          41.254000000000005,
          41.356,
          41.458,
          41.56,
          41.662,
          41.763999999999996,
          41.866,
          41.968,
          42.07,
          42.172,
          42.274,
          42.376000000000005,
          42.478,
          42.58,
          42.682,
          42.784,
          42.885999999999996,
          42.988,
          43.09,
          43.192,
          43.294,
          43.396,
          43.498000000000005,
          43.6,
          43.702,
          43.804,
          43.906,
          44.007999999999996,
          44.11,
          44.212,
          44.314,
          44.416,
          44.518,
          44.620000000000005,
          44.722,
          44.824,
          44.926,
          45.028,
          45.13,
          45.232,
          45.334,
          45.436,
          45.538,
          45.64,
          45.742,
          45.844,
          45.946,
          46.048,
          46.15,
          46.252,
          46.354,
          46.456,
          46.558,
          46.66,
          46.762,
          46.864,
          46.966,
          47.068,
          47.17,
          47.272,
          47.374,
          47.476,
          47.578,
          47.68,
          47.782,
          47.884,
          47.986,
          48.088,
          48.19,
          48.292,
          48.394,
          48.496,
          48.598,
          48.7,
          48.802,
          48.904,
          49.006,
          49.108,
          49.21,
          49.312,
          49.414,
          49.516,
          49.618,
          49.72,
          49.822,
          49.924,
          50.026,
          50.128,
          50.23,
          50.332,
          50.434,
          50.536,
          50.638,
          50.74,
          50.842,
          50.944,
          51.046,
          51.148,
          51.25,
          51.352,
          51.454,
          51.556,
          51.658,
          51.76,
          51.862,
          51.964,
          52.066,
          52.168,
          52.27,
          52.372,
          52.474,
          52.576,
          52.678,
          52.78,
          52.882,
          52.984,
          53.086,
          53.188,
          53.29,
          53.392,
          53.494,
          53.596,
          53.698,
          53.8,
          53.902,
          54.004,
          54.106,
          54.208,
          54.31,
          54.412,
          54.514,
          54.616,
          54.718,
          54.82,
          54.922,
          55.024,
          55.126,
          55.228,
          55.33,
          55.432,
          55.534,
          55.636,
          55.738,
          55.84,
          55.942,
          56.044,
          56.146,
          56.248,
          56.35,
          56.452,
          56.554,
          56.656,
          56.758,
          56.86,
          56.962,
          57.064,
          57.166,
          57.268,
          57.37,
          57.472,
          57.574,
          57.676,
          57.778,
          57.88,
          57.982,
          58.084,
          58.186,
          58.288,
          58.39,
          58.492,
          58.594,
          58.696,
          58.798,
          58.9,
          59.002,
          59.104,
          59.206,
          59.308,
          59.41,
          59.512,
          59.614,
          59.716,
          59.818,
          59.92,
          60.022,
          60.124,
          60.226,
          60.328,
          60.43,
          60.532,
          60.634,
          60.736,
          60.838,
          60.94,
          61.042,
          61.144,
          61.246,
          61.348,
          61.45,
          61.552,
          61.654,
          61.756,
          61.858,
          61.96,
          62.062,
          62.164,
          62.266,
          62.368,
          62.47,
          62.572,
          62.674,
          62.776,
          62.878,
          62.98,
          63.082,
          63.184,
          63.286,
          63.388,
          63.49,
          63.592,
          63.694,
          63.796,
          63.898
         ],
         "xaxis": "x",
         "y": {
          "bdata": "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",
          "dtype": "f8"
         },
         "yaxis": "y"
        },
        {
         "legendgroup": "Silver Medalist",
         "marker": {
          "color": "rgb(44, 160, 44)"
         },
         "mode": "lines",
         "name": "Silver Medalist",
         "showlegend": true,
         "type": "scatter",
         "x": [
          11,
          11.124,
          11.248,
          11.372,
          11.496,
          11.62,
          11.744,
          11.868,
          11.992,
          12.116,
          12.24,
          12.364,
          12.488,
          12.612,
          12.736,
          12.86,
          12.984,
          13.108,
          13.232,
          13.356,
          13.48,
          13.604,
          13.728,
          13.852,
          13.975999999999999,
          14.1,
          14.224,
          14.347999999999999,
          14.472,
          14.596,
          14.72,
          14.844,
          14.968,
          15.091999999999999,
          15.216000000000001,
          15.34,
          15.464,
          15.588000000000001,
          15.712,
          15.836,
          15.96,
          16.084,
          16.208,
          16.332,
          16.456,
          16.58,
          16.704,
          16.828,
          16.951999999999998,
          17.076,
          17.2,
          17.323999999999998,
          17.448,
          17.572,
          17.695999999999998,
          17.82,
          17.944,
          18.067999999999998,
          18.192,
          18.316,
          18.44,
          18.564,
          18.688,
          18.812,
          18.936,
          19.060000000000002,
          19.183999999999997,
          19.308,
          19.432000000000002,
          19.555999999999997,
          19.68,
          19.804000000000002,
          19.928,
          20.052,
          20.176000000000002,
          20.3,
          20.424,
          20.548000000000002,
          20.672,
          20.796,
          20.92,
          21.044,
          21.168,
          21.292,
          21.416,
          21.54,
          21.664,
          21.788,
          21.912,
          22.036,
          22.16,
          22.284,
          22.408,
          22.532,
          22.656,
          22.78,
          22.904,
          23.028,
          23.152,
          23.276,
          23.4,
          23.524,
          23.648,
          23.772,
          23.896,
          24.02,
          24.144,
          24.268,
          24.392,
          24.516,
          24.64,
          24.764,
          24.887999999999998,
          25.012,
          25.136,
          25.259999999999998,
          25.384,
          25.508,
          25.631999999999998,
          25.756,
          25.880000000000003,
          26.003999999999998,
          26.128,
          26.252000000000002,
          26.375999999999998,
          26.5,
          26.624000000000002,
          26.747999999999998,
          26.872,
          26.996000000000002,
          27.12,
          27.244,
          27.368,
          27.492,
          27.616,
          27.74,
          27.864,
          27.988,
          28.112,
          28.236,
          28.36,
          28.484,
          28.608,
          28.732,
          28.856,
          28.98,
          29.104,
          29.228,
          29.352,
          29.476,
          29.6,
          29.724,
          29.848,
          29.972,
          30.096,
          30.22,
          30.344,
          30.468,
          30.592,
          30.716,
          30.84,
          30.964,
          31.088,
          31.212,
          31.336,
          31.46,
          31.584,
          31.708,
          31.832,
          31.956,
          32.08,
          32.204,
          32.328,
          32.452,
          32.576,
          32.7,
          32.824,
          32.948,
          33.072,
          33.196,
          33.32,
          33.444,
          33.568,
          33.692,
          33.816,
          33.94,
          34.064,
          34.188,
          34.312,
          34.436,
          34.56,
          34.684,
          34.808,
          34.932,
          35.056,
          35.18,
          35.304,
          35.428,
          35.552,
          35.676,
          35.8,
          35.924,
          36.048,
          36.172,
          36.296,
          36.42,
          36.544,
          36.668,
          36.792,
          36.916,
          37.04,
          37.164,
          37.288,
          37.412,
          37.536,
          37.66,
          37.784,
          37.908,
          38.032,
          38.156,
          38.28,
          38.403999999999996,
          38.528,
          38.652,
          38.775999999999996,
          38.9,
          39.024,
          39.147999999999996,
          39.272,
          39.396,
          39.519999999999996,
          39.644,
          39.768,
          39.891999999999996,
          40.016,
          40.14,
          40.263999999999996,
          40.388000000000005,
          40.512,
          40.635999999999996,
          40.760000000000005,
          40.884,
          41.007999999999996,
          41.132000000000005,
          41.256,
          41.379999999999995,
          41.504000000000005,
          41.628,
          41.751999999999995,
          41.876000000000005,
          42,
          42.123999999999995,
          42.248000000000005,
          42.372,
          42.495999999999995,
          42.620000000000005,
          42.744,
          42.867999999999995,
          42.992000000000004,
          43.116,
          43.24,
          43.364,
          43.488,
          43.612,
          43.736,
          43.86,
          43.984,
          44.108,
          44.232,
          44.356,
          44.48,
          44.604,
          44.728,
          44.852,
          44.976,
          45.1,
          45.224,
          45.348,
          45.472,
          45.596,
          45.72,
          45.844,
          45.968,
          46.092,
          46.216,
          46.34,
          46.464,
          46.588,
          46.712,
          46.836,
          46.96,
          47.084,
          47.208,
          47.332,
          47.456,
          47.58,
          47.704,
          47.828,
          47.952,
          48.076,
          48.2,
          48.324,
          48.448,
          48.572,
          48.696,
          48.82,
          48.944,
          49.068,
          49.192,
          49.316,
          49.44,
          49.564,
          49.688,
          49.812,
          49.936,
          50.06,
          50.184,
          50.308,
          50.432,
          50.556,
          50.68,
          50.804,
          50.928,
          51.052,
          51.176,
          51.3,
          51.424,
          51.548,
          51.672,
          51.796,
          51.92,
          52.044,
          52.168,
          52.292,
          52.416,
          52.54,
          52.664,
          52.788,
          52.912,
          53.036,
          53.16,
          53.284,
          53.408,
          53.532,
          53.656,
          53.78,
          53.904,
          54.028,
          54.152,
          54.276,
          54.4,
          54.524,
          54.648,
          54.772,
          54.896,
          55.02,
          55.144,
          55.268,
          55.392,
          55.516,
          55.64,
          55.764,
          55.888,
          56.012,
          56.136,
          56.26,
          56.384,
          56.508,
          56.632,
          56.756,
          56.88,
          57.004,
          57.128,
          57.252,
          57.376,
          57.5,
          57.624,
          57.748,
          57.872,
          57.996,
          58.12,
          58.244,
          58.368,
          58.492,
          58.616,
          58.74,
          58.864,
          58.988,
          59.112,
          59.236,
          59.36,
          59.484,
          59.608,
          59.732,
          59.856,
          59.98,
          60.104,
          60.228,
          60.352,
          60.476,
          60.6,
          60.724,
          60.848,
          60.972,
          61.096,
          61.22,
          61.344,
          61.468,
          61.592,
          61.716,
          61.84,
          61.964,
          62.088,
          62.212,
          62.336,
          62.46,
          62.584,
          62.708,
          62.832,
          62.956,
          63.08,
          63.204,
          63.328,
          63.452,
          63.576,
          63.7,
          63.824,
          63.948,
          64.072,
          64.196,
          64.32,
          64.444,
          64.568,
          64.69200000000001,
          64.816,
          64.94,
          65.064,
          65.188,
          65.312,
          65.436,
          65.56,
          65.684,
          65.80799999999999,
          65.932,
          66.056,
          66.18,
          66.304,
          66.428,
          66.55199999999999,
          66.676,
          66.8,
          66.924,
          67.048,
          67.172,
          67.29599999999999,
          67.42,
          67.544,
          67.668,
          67.792,
          67.916,
          68.03999999999999,
          68.164,
          68.288,
          68.412,
          68.536,
          68.66,
          68.78399999999999,
          68.908,
          69.032,
          69.156,
          69.28,
          69.404,
          69.52799999999999,
          69.652,
          69.77600000000001,
          69.9,
          70.024,
          70.148,
          70.27199999999999,
          70.396,
          70.52000000000001,
          70.644,
          70.768,
          70.892,
          71.01599999999999,
          71.14,
          71.26400000000001,
          71.388,
          71.512,
          71.636,
          71.75999999999999,
          71.884,
          72.00800000000001,
          72.132,
          72.256,
          72.38,
          72.50399999999999,
          72.628,
          72.75200000000001,
          72.876
         ],
         "xaxis": "x",
         "y": {
          "bdata": "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",
          "dtype": "f8"
         },
         "yaxis": "y"
        },
        {
         "legendgroup": "Bronze Medalist",
         "marker": {
          "color": "rgb(214, 39, 40)"
         },
         "mode": "lines",
         "name": "Bronze Medalist",
         "showlegend": true,
         "type": "scatter",
         "x": [
          10,
          10.124,
          10.248,
          10.372,
          10.496,
          10.62,
          10.744,
          10.868,
          10.992,
          11.116,
          11.24,
          11.364,
          11.488,
          11.612,
          11.736,
          11.86,
          11.984,
          12.108,
          12.232,
          12.356,
          12.48,
          12.604,
          12.728,
          12.852,
          12.975999999999999,
          13.1,
          13.224,
          13.347999999999999,
          13.472,
          13.596,
          13.72,
          13.844,
          13.968,
          14.091999999999999,
          14.216000000000001,
          14.34,
          14.464,
          14.588000000000001,
          14.712,
          14.836,
          14.96,
          15.084,
          15.208,
          15.332,
          15.456,
          15.58,
          15.704,
          15.828,
          15.952,
          16.076,
          16.2,
          16.323999999999998,
          16.448,
          16.572,
          16.695999999999998,
          16.82,
          16.944,
          17.067999999999998,
          17.192,
          17.316,
          17.44,
          17.564,
          17.688,
          17.812,
          17.936,
          18.060000000000002,
          18.183999999999997,
          18.308,
          18.432000000000002,
          18.555999999999997,
          18.68,
          18.804000000000002,
          18.928,
          19.052,
          19.176000000000002,
          19.3,
          19.424,
          19.548000000000002,
          19.672,
          19.796,
          19.92,
          20.044,
          20.168,
          20.292,
          20.416,
          20.54,
          20.664,
          20.788,
          20.912,
          21.036,
          21.16,
          21.284,
          21.408,
          21.532,
          21.656,
          21.78,
          21.904,
          22.028,
          22.152,
          22.276,
          22.4,
          22.524,
          22.648,
          22.772,
          22.896,
          23.02,
          23.144,
          23.268,
          23.392,
          23.516,
          23.64,
          23.764,
          23.887999999999998,
          24.012,
          24.136,
          24.259999999999998,
          24.384,
          24.508,
          24.631999999999998,
          24.756,
          24.880000000000003,
          25.003999999999998,
          25.128,
          25.252000000000002,
          25.375999999999998,
          25.5,
          25.624000000000002,
          25.747999999999998,
          25.872,
          25.996000000000002,
          26.12,
          26.244,
          26.368,
          26.492,
          26.616,
          26.74,
          26.864,
          26.988,
          27.112,
          27.236,
          27.36,
          27.484,
          27.608,
          27.732,
          27.856,
          27.98,
          28.104,
          28.228,
          28.352,
          28.476,
          28.6,
          28.724,
          28.848,
          28.972,
          29.096,
          29.22,
          29.344,
          29.468,
          29.592,
          29.716,
          29.84,
          29.964,
          30.088,
          30.212,
          30.336,
          30.46,
          30.584,
          30.708,
          30.832,
          30.956,
          31.08,
          31.204,
          31.328,
          31.452,
          31.576,
          31.7,
          31.824,
          31.948,
          32.072,
          32.196,
          32.32,
          32.444,
          32.568,
          32.692,
          32.816,
          32.94,
          33.064,
          33.188,
          33.312,
          33.436,
          33.56,
          33.684,
          33.808,
          33.932,
          34.056,
          34.18,
          34.304,
          34.428,
          34.552,
          34.676,
          34.8,
          34.924,
          35.048,
          35.172,
          35.296,
          35.42,
          35.544,
          35.668,
          35.792,
          35.916,
          36.04,
          36.164,
          36.288,
          36.412,
          36.536,
          36.66,
          36.784,
          36.908,
          37.032,
          37.156,
          37.28,
          37.403999999999996,
          37.528,
          37.652,
          37.775999999999996,
          37.9,
          38.024,
          38.147999999999996,
          38.272,
          38.396,
          38.519999999999996,
          38.644,
          38.768,
          38.891999999999996,
          39.016,
          39.14,
          39.263999999999996,
          39.388000000000005,
          39.512,
          39.635999999999996,
          39.760000000000005,
          39.884,
          40.007999999999996,
          40.132000000000005,
          40.256,
          40.379999999999995,
          40.504000000000005,
          40.628,
          40.751999999999995,
          40.876000000000005,
          41,
          41.123999999999995,
          41.248000000000005,
          41.372,
          41.495999999999995,
          41.620000000000005,
          41.744,
          41.867999999999995,
          41.992000000000004,
          42.116,
          42.24,
          42.364,
          42.488,
          42.612,
          42.736,
          42.86,
          42.984,
          43.108,
          43.232,
          43.356,
          43.48,
          43.604,
          43.728,
          43.852,
          43.976,
          44.1,
          44.224,
          44.348,
          44.472,
          44.596,
          44.72,
          44.844,
          44.968,
          45.092,
          45.216,
          45.34,
          45.464,
          45.588,
          45.712,
          45.836,
          45.96,
          46.084,
          46.208,
          46.332,
          46.456,
          46.58,
          46.704,
          46.828,
          46.952,
          47.076,
          47.2,
          47.324,
          47.448,
          47.572,
          47.696,
          47.82,
          47.944,
          48.068,
          48.192,
          48.316,
          48.44,
          48.564,
          48.688,
          48.812,
          48.936,
          49.06,
          49.184,
          49.308,
          49.432,
          49.556,
          49.68,
          49.804,
          49.928,
          50.052,
          50.176,
          50.3,
          50.424,
          50.548,
          50.672,
          50.796,
          50.92,
          51.044,
          51.168,
          51.292,
          51.416,
          51.54,
          51.664,
          51.788,
          51.912,
          52.036,
          52.16,
          52.284,
          52.408,
          52.532,
          52.656,
          52.78,
          52.904,
          53.028,
          53.152,
          53.276,
          53.4,
          53.524,
          53.648,
          53.772,
          53.896,
          54.02,
          54.144,
          54.268,
          54.392,
          54.516,
          54.64,
          54.764,
          54.888,
          55.012,
          55.136,
          55.26,
          55.384,
          55.508,
          55.632,
          55.756,
          55.88,
          56.004,
          56.128,
          56.252,
          56.376,
          56.5,
          56.624,
          56.748,
          56.872,
          56.996,
          57.12,
          57.244,
          57.368,
          57.492,
          57.616,
          57.74,
          57.864,
          57.988,
          58.112,
          58.236,
          58.36,
          58.484,
          58.608,
          58.732,
          58.856,
          58.98,
          59.104,
          59.228,
          59.352,
          59.476,
          59.6,
          59.724,
          59.848,
          59.972,
          60.096,
          60.22,
          60.344,
          60.468,
          60.592,
          60.716,
          60.84,
          60.964,
          61.088,
          61.212,
          61.336,
          61.46,
          61.584,
          61.708,
          61.832,
          61.956,
          62.08,
          62.204,
          62.328,
          62.452,
          62.576,
          62.7,
          62.824,
          62.948,
          63.072,
          63.196,
          63.32,
          63.444,
          63.568,
          63.692,
          63.816,
          63.94,
          64.064,
          64.188,
          64.312,
          64.436,
          64.56,
          64.684,
          64.80799999999999,
          64.932,
          65.056,
          65.18,
          65.304,
          65.428,
          65.55199999999999,
          65.676,
          65.8,
          65.924,
          66.048,
          66.172,
          66.29599999999999,
          66.42,
          66.544,
          66.668,
          66.792,
          66.916,
          67.03999999999999,
          67.164,
          67.288,
          67.412,
          67.536,
          67.66,
          67.78399999999999,
          67.908,
          68.032,
          68.156,
          68.28,
          68.404,
          68.52799999999999,
          68.652,
          68.77600000000001,
          68.9,
          69.024,
          69.148,
          69.27199999999999,
          69.396,
          69.52000000000001,
          69.644,
          69.768,
          69.892,
          70.01599999999999,
          70.14,
          70.26400000000001,
          70.388,
          70.512,
          70.636,
          70.75999999999999,
          70.884,
          71.00800000000001,
          71.132,
          71.256,
          71.38,
          71.50399999999999,
          71.628,
          71.75200000000001,
          71.876
         ],
         "xaxis": "x",
         "y": {
          "bdata": "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",
          "dtype": "f8"
         },
         "yaxis": "y"
        }
       ],
       "layout": {
        "barmode": "overlay",
        "hovermode": "closest",
        "legend": {
         "traceorder": "reversed"
        },
        "template": {
         "data": {
          "bar": [
           {
            "error_x": {
             "color": "#2a3f5f"
            },
            "error_y": {
             "color": "#2a3f5f"
            },
            "marker": {
             "line": {
              "color": "#E5ECF6",
              "width": 0.5
             },
             "pattern": {
              "fillmode": "overlay",
              "size": 10,
              "solidity": 0.2
             }
            },
            "type": "bar"
           }
          ],
          "barpolar": [
           {
            "marker": {
             "line": {
              "color": "#E5ECF6",
              "width": 0.5
             },
             "pattern": {
              "fillmode": "overlay",
              "size": 10,
              "solidity": 0.2
             }
            },
            "type": "barpolar"
           }
          ],
          "carpet": [
           {
            "aaxis": {
             "endlinecolor": "#2a3f5f",
             "gridcolor": "white",
             "linecolor": "white",
             "minorgridcolor": "white",
             "startlinecolor": "#2a3f5f"
            },
            "baxis": {
             "endlinecolor": "#2a3f5f",
             "gridcolor": "white",
             "linecolor": "white",
             "minorgridcolor": "white",
             "startlinecolor": "#2a3f5f"
            },
            "type": "carpet"
           }
          ],
          "choropleth": [
           {
            "colorbar": {
             "outlinewidth": 0,
             "ticks": ""
            },
            "type": "choropleth"
           }
          ],
          "contour": [
           {
            "colorbar": {
             "outlinewidth": 0,
             "ticks": ""
            },
            "colorscale": [
             [
              0,
              "#0d0887"
             ],
             [
              0.1111111111111111,
              "#46039f"
             ],
             [
              0.2222222222222222,
              "#7201a8"
             ],
             [
              0.3333333333333333,
              "#9c179e"
             ],
             [
              0.4444444444444444,
              "#bd3786"
             ],
             [
              0.5555555555555556,
              "#d8576b"
             ],
             [
              0.6666666666666666,
              "#ed7953"
             ],
             [
              0.7777777777777778,
              "#fb9f3a"
             ],
             [
              0.8888888888888888,
              "#fdca26"
             ],
             [
              1,
              "#f0f921"
             ]
            ],
            "type": "contour"
           }
          ],
          "contourcarpet": [
           {
            "colorbar": {
             "outlinewidth": 0,
             "ticks": ""
            },
            "type": "contourcarpet"
           }
          ],
          "heatmap": [
           {
            "colorbar": {
             "outlinewidth": 0,
             "ticks": ""
            },
            "colorscale": [
             [
              0,
              "#0d0887"
             ],
             [
              0.1111111111111111,
              "#46039f"
             ],
             [
              0.2222222222222222,
              "#7201a8"
             ],
             [
              0.3333333333333333,
              "#9c179e"
             ],
             [
              0.4444444444444444,
              "#bd3786"
             ],
             [
              0.5555555555555556,
              "#d8576b"
             ],
             [
              0.6666666666666666,
              "#ed7953"
             ],
             [
              0.7777777777777778,
              "#fb9f3a"
             ],
             [
              0.8888888888888888,
              "#fdca26"
             ],
             [
              1,
              "#f0f921"
             ]
            ],
            "type": "heatmap"
           }
          ],
          "histogram": [
           {
            "marker": {
             "pattern": {
              "fillmode": "overlay",
              "size": 10,
              "solidity": 0.2
             }
            },
            "type": "histogram"
           }
          ],
          "histogram2d": [
           {
            "colorbar": {
             "outlinewidth": 0,
             "ticks": ""
            },
            "colorscale": [
             [
              0,
              "#0d0887"
             ],
             [
              0.1111111111111111,
              "#46039f"
             ],
             [
              0.2222222222222222,
              "#7201a8"
             ],
             [
              0.3333333333333333,
              "#9c179e"
             ],
             [
              0.4444444444444444,
              "#bd3786"
             ],
             [
              0.5555555555555556,
              "#d8576b"
             ],
             [
              0.6666666666666666,
              "#ed7953"
             ],
             [
              0.7777777777777778,
              "#fb9f3a"
             ],
             [
              0.8888888888888888,
              "#fdca26"
             ],
             [
              1,
              "#f0f921"
             ]
            ],
            "type": "histogram2d"
           }
          ],
          "histogram2dcontour": [
           {
            "colorbar": {
             "outlinewidth": 0,
             "ticks": ""
            },
            "colorscale": [
             [
              0,
              "#0d0887"
             ],
             [
              0.1111111111111111,
              "#46039f"
             ],
             [
              0.2222222222222222,
              "#7201a8"
             ],
             [
              0.3333333333333333,
              "#9c179e"
             ],
             [
              0.4444444444444444,
              "#bd3786"
             ],
             [
              0.5555555555555556,
              "#d8576b"
             ],
             [
              0.6666666666666666,
              "#ed7953"
             ],
             [
              0.7777777777777778,
              "#fb9f3a"
             ],
             [
              0.8888888888888888,
              "#fdca26"
             ],
             [
              1,
              "#f0f921"
             ]
            ],
            "type": "histogram2dcontour"
           }
          ],
          "mesh3d": [
           {
            "colorbar": {
             "outlinewidth": 0,
             "ticks": ""
            },
            "type": "mesh3d"
           }
          ],
          "parcoords": [
           {
            "line": {
             "colorbar": {
              "outlinewidth": 0,
              "ticks": ""
             }
            },
            "type": "parcoords"
           }
          ],
          "pie": [
           {
            "automargin": true,
            "type": "pie"
           }
          ],
          "scatter": [
           {
            "fillpattern": {
             "fillmode": "overlay",
             "size": 10,
             "solidity": 0.2
            },
            "type": "scatter"
           }
          ],
          "scatter3d": [
           {
            "line": {
             "colorbar": {
              "outlinewidth": 0,
              "ticks": ""
             }
            },
            "marker": {
             "colorbar": {
              "outlinewidth": 0,
              "ticks": ""
             }
            },
            "type": "scatter3d"
           }
          ],
          "scattercarpet": [
           {
            "marker": {
             "colorbar": {
              "outlinewidth": 0,
              "ticks": ""
             }
            },
            "type": "scattercarpet"
           }
          ],
          "scattergeo": [
           {
            "marker": {
             "colorbar": {
              "outlinewidth": 0,
              "ticks": ""
             }
            },
            "type": "scattergeo"
           }
          ],
          "scattergl": [
           {
            "marker": {
             "colorbar": {
              "outlinewidth": 0,
              "ticks": ""
             }
            },
            "type": "scattergl"
           }
          ],
          "scattermap": [
           {
            "marker": {
             "colorbar": {
              "outlinewidth": 0,
              "ticks": ""
             }
            },
            "type": "scattermap"
           }
          ],
          "scattermapbox": [
           {
            "marker": {
             "colorbar": {
              "outlinewidth": 0,
              "ticks": ""
             }
            },
            "type": "scattermapbox"
           }
          ],
          "scatterpolar": [
           {
            "marker": {
             "colorbar": {
              "outlinewidth": 0,
              "ticks": ""
             }
            },
            "type": "scatterpolar"
           }
          ],
          "scatterpolargl": [
           {
            "marker": {
             "colorbar": {
              "outlinewidth": 0,
              "ticks": ""
             }
            },
            "type": "scatterpolargl"
           }
          ],
          "scatterternary": [
           {
            "marker": {
             "colorbar": {
              "outlinewidth": 0,
              "ticks": ""
             }
            },
            "type": "scatterternary"
           }
          ],
          "surface": [
           {
            "colorbar": {
             "outlinewidth": 0,
             "ticks": ""
            },
            "colorscale": [
             [
              0,
              "#0d0887"
             ],
             [
              0.1111111111111111,
              "#46039f"
             ],
             [
              0.2222222222222222,
              "#7201a8"
             ],
             [
              0.3333333333333333,
              "#9c179e"
             ],
             [
              0.4444444444444444,
              "#bd3786"
             ],
             [
              0.5555555555555556,
              "#d8576b"
             ],
             [
              0.6666666666666666,
              "#ed7953"
             ],
             [
              0.7777777777777778,
              "#fb9f3a"
             ],
             [
              0.8888888888888888,
              "#fdca26"
             ],
             [
              1,
              "#f0f921"
             ]
            ],
            "type": "surface"
           }
          ],
          "table": [
           {
            "cells": {
             "fill": {
              "color": "#EBF0F8"
             },
             "line": {
              "color": "white"
             }
            },
            "header": {
             "fill": {
              "color": "#C8D4E3"
             },
             "line": {
              "color": "white"
             }
            },
            "type": "table"
           }
          ]
         },
         "layout": {
          "annotationdefaults": {
           "arrowcolor": "#2a3f5f",
           "arrowhead": 0,
           "arrowwidth": 1
          },
          "autotypenumbers": "strict",
          "coloraxis": {
           "colorbar": {
            "outlinewidth": 0,
            "ticks": ""
           }
          },
          "colorscale": {
           "diverging": [
            [
             0,
             "#8e0152"
            ],
            [
             0.1,
             "#c51b7d"
            ],
            [
             0.2,
             "#de77ae"
            ],
            [
             0.3,
             "#f1b6da"
            ],
            [
             0.4,
             "#fde0ef"
            ],
            [
             0.5,
             "#f7f7f7"
            ],
            [
             0.6,
             "#e6f5d0"
            ],
            [
             0.7,
             "#b8e186"
            ],
            [
             0.8,
             "#7fbc41"
            ],
            [
             0.9,
             "#4d9221"
            ],
            [
             1,
             "#276419"
            ]
           ],
           "sequential": [
            [
             0,
             "#0d0887"
            ],
            [
             0.1111111111111111,
             "#46039f"
            ],
            [
             0.2222222222222222,
             "#7201a8"
            ],
            [
             0.3333333333333333,
             "#9c179e"
            ],
            [
             0.4444444444444444,
             "#bd3786"
            ],
            [
             0.5555555555555556,
             "#d8576b"
            ],
            [
             0.6666666666666666,
             "#ed7953"
            ],
            [
             0.7777777777777778,
             "#fb9f3a"
            ],
            [
             0.8888888888888888,
             "#fdca26"
            ],
            [
             1,
             "#f0f921"
            ]
           ],
           "sequentialminus": [
            [
             0,
             "#0d0887"
            ],
            [
             0.1111111111111111,
             "#46039f"
            ],
            [
             0.2222222222222222,
             "#7201a8"
            ],
            [
             0.3333333333333333,
             "#9c179e"
            ],
            [
             0.4444444444444444,
             "#bd3786"
            ],
            [
             0.5555555555555556,
             "#d8576b"
            ],
            [
             0.6666666666666666,
             "#ed7953"
            ],
            [
             0.7777777777777778,
             "#fb9f3a"
            ],
            [
             0.8888888888888888,
             "#fdca26"
            ],
            [
             1,
             "#f0f921"
            ]
           ]
          },
          "colorway": [
           "#636efa",
           "#EF553B",
           "#00cc96",
           "#ab63fa",
           "#FFA15A",
           "#19d3f3",
           "#FF6692",
           "#B6E880",
           "#FF97FF",
           "#FECB52"
          ],
          "font": {
           "color": "#2a3f5f"
          },
          "geo": {
           "bgcolor": "white",
           "lakecolor": "white",
           "landcolor": "#E5ECF6",
           "showlakes": true,
           "showland": true,
           "subunitcolor": "white"
          },
          "hoverlabel": {
           "align": "left"
          },
          "hovermode": "closest",
          "mapbox": {
           "style": "light"
          },
          "paper_bgcolor": "white",
          "plot_bgcolor": "#E5ECF6",
          "polar": {
           "angularaxis": {
            "gridcolor": "white",
            "linecolor": "white",
            "ticks": ""
           },
           "bgcolor": "#E5ECF6",
           "radialaxis": {
            "gridcolor": "white",
            "linecolor": "white",
            "ticks": ""
           }
          },
          "scene": {
           "xaxis": {
            "backgroundcolor": "#E5ECF6",
            "gridcolor": "white",
            "gridwidth": 2,
            "linecolor": "white",
            "showbackground": true,
            "ticks": "",
            "zerolinecolor": "white"
           },
           "yaxis": {
            "backgroundcolor": "#E5ECF6",
            "gridcolor": "white",
            "gridwidth": 2,
            "linecolor": "white",
            "showbackground": true,
            "ticks": "",
            "zerolinecolor": "white"
           },
           "zaxis": {
            "backgroundcolor": "#E5ECF6",
            "gridcolor": "white",
            "gridwidth": 2,
            "linecolor": "white",
            "showbackground": true,
            "ticks": "",
            "zerolinecolor": "white"
           }
          },
          "shapedefaults": {
           "line": {
            "color": "#2a3f5f"
           }
          },
          "ternary": {
           "aaxis": {
            "gridcolor": "white",
            "linecolor": "white",
            "ticks": ""
           },
           "baxis": {
            "gridcolor": "white",
            "linecolor": "white",
            "ticks": ""
           },
           "bgcolor": "#E5ECF6",
           "caxis": {
            "gridcolor": "white",
            "linecolor": "white",
            "ticks": ""
           }
          },
          "title": {
           "x": 0.05
          },
          "xaxis": {
           "automargin": true,
           "gridcolor": "white",
           "linecolor": "white",
           "ticks": "",
           "title": {
            "standoff": 15
           },
           "zerolinecolor": "white",
           "zerolinewidth": 2
          },
          "yaxis": {
           "automargin": true,
           "gridcolor": "white",
           "linecolor": "white",
           "ticks": "",
           "title": {
            "standoff": 15
           },
           "zerolinecolor": "white",
           "zerolinewidth": 2
          }
         }
        },
        "xaxis": {
         "anchor": "y2",
         "domain": [
          0,
          1
         ],
         "zeroline": false
        },
        "yaxis": {
         "anchor": "free",
         "domain": [
          0,
          1
         ],
         "position": 0
        }
       }
      }
     },
     "metadata": {},
     "output_type": "display_data"
    }
   ],
   "source": [
    "fig = ff.create_distplot([x1, x2, x3, x4], [\"Overall Age\", \"Gold Medalist\", \"Silver Medalist\", \"Bronze Medalist\"], show_rug=False, show_hist=False)\n",
    "fig.show()"
   ]
  }
 ],
 "metadata": {
  "kernelspec": {
   "display_name": "venv",
   "language": "python",
   "name": "python3"
  },
  "language_info": {
   "codemirror_mode": {
    "name": "ipython",
    "version": 3
   },
   "file_extension": ".py",
   "mimetype": "text/x-python",
   "name": "python",
   "nbconvert_exporter": "python",
   "pygments_lexer": "ipython3",
   "version": "3.13.1"
  }
 },
 "nbformat": 4,
 "nbformat_minor": 5
}
